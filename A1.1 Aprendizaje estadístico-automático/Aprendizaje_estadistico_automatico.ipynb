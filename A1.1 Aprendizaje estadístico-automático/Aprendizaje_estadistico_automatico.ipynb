{
 "cells": [
  {
   "cell_type": "markdown",
   "metadata": {},
   "source": [
    "# A1.1 Aprendizaje estadístico-automático\n",
    "Los niveles de obesidad de la población son cada vez más preocupantes, sobre todo en países latinoamericanos. Por lo mismo, científicos de la Universidad de la Costa en Colombia se dieron a la tarea de recolectar información relacionada a este tema para individuos de Colombia, Perú, y México. La base de datos original se encuentra en el UCI Machine Learning Repository, pero una versión simplificada la encontrarás disponible con el nombre “A1.1 Obesidad.csv” en la misma página de la plataforma donde descargaste esta plantilla.\n",
    "\n",
    "La base de datos cuenta con la siguiente información: \n",
    "- **Sexo**. Se describe como femenino `Female` o masculino `Male`. \n",
    "- **Edad**. Se describe como un número entre `14` y `61`. \n",
    "- **Estatura**. Se describe como un número, en metros. \n",
    "- **Peso**. Se describe como un número, en kilogramos. \n",
    "- **FamiliarConSobrepeso**. Describe si algún familiar ha sufrido sobrepeso `yes` o `no`. \n",
    "- **ComeMuchasCalorias**. Describe si el individuo come comidas con alto contenido calórico de forma frecuente `yes` o no `no` \n",
    "- **ComeVegetales**. Indica si el individuo nunca come vegetales en sus comidas `1`, si lo hace algunas veces `2`, o si lo hace siempre `3`\n",
    "- **Fumador**. Indica si la persona es fumadora activa `yes` o `no`\n",
    "- **ConsumoDeAgua**. Indica si la persona toma menos de un litro de agua al día `1`, entre uno y dos litros de agua al día `2`, o más de dos litros de agua al día `3` \n",
    "- **NivelDeObesidad**. Se calcula a partir del índice de masa corporal (peso dividido entre estatura al cuadrado), y se categoriza como: bajo peso `Insufficient_Weight` para valores menores a 18.5, peso normal `Normal_Weight` para valores entre 18.5 y 24.9, sobrepeso tipo I `Overweight_Level_I` y sobrepeso tipo II `Overweight_Level_II` para valores entre 25.0 y 29.9, obesidad tipo I `Obesity_Type_I` para valores entre 30.00 y 34.9, obesidad tipo II `Obesity_Type_II` para valores entre 35.0 y 39.9, y obesidad tipo III `Obesity_Type_III` para valores superiores a 40.0\n",
    "\n",
    "¿Qué información te interesaría revisar si formaran parte del equipo de investigación? ¿Qué información te hubiera gustado recopilar y que actualmente no se encuentra en el estudio?\n",
    "\n",
    "Desarrolla los siguientes puntos en una Jupyter Notebook, tratando, dentro de lo posible, que cada punto se trabaje en una celda distinta. Los comentarios en el código siempre son bienvenidos, de preferencia, aprovecha el markdown para generar cuadros de descripción que ayuden al lector a comprender el trabajo realizado."
   ]
  },
  {
   "cell_type": "markdown",
   "metadata": {},
   "source": [
    "1 Importa los datos del archivo “Obesidad.csv” a tu ambiente de trabajo en una Jupyter Notebook y muestra en consola un resumen, imprimiendo las primeras 10 filas de datos. Recuerda que es conveniente que el archivo “csv” y tu libreta estén en el mismo directorio."
   ]
  },
  {
   "cell_type": "code",
   "execution_count": 9,
   "metadata": {},
   "outputs": [
    {
     "data": {
      "text/html": [
       "<div>\n",
       "<style scoped>\n",
       "    .dataframe tbody tr th:only-of-type {\n",
       "        vertical-align: middle;\n",
       "    }\n",
       "\n",
       "    .dataframe tbody tr th {\n",
       "        vertical-align: top;\n",
       "    }\n",
       "\n",
       "    .dataframe thead th {\n",
       "        text-align: right;\n",
       "    }\n",
       "</style>\n",
       "<table border=\"1\" class=\"dataframe\">\n",
       "  <thead>\n",
       "    <tr style=\"text-align: right;\">\n",
       "      <th></th>\n",
       "      <th>Sexo</th>\n",
       "      <th>Edad</th>\n",
       "      <th>Estatura</th>\n",
       "      <th>Peso</th>\n",
       "      <th>FamiliarConSobrepeso</th>\n",
       "      <th>ComeMuchasCalorias</th>\n",
       "      <th>ComeVegetales</th>\n",
       "      <th>Fumador</th>\n",
       "      <th>ConsumoDeAgua</th>\n",
       "      <th>NivelDeObesidad</th>\n",
       "    </tr>\n",
       "  </thead>\n",
       "  <tbody>\n",
       "    <tr>\n",
       "      <th>0</th>\n",
       "      <td>Female</td>\n",
       "      <td>21.0</td>\n",
       "      <td>1.62</td>\n",
       "      <td>64.0</td>\n",
       "      <td>yes</td>\n",
       "      <td>no</td>\n",
       "      <td>2.0</td>\n",
       "      <td>no</td>\n",
       "      <td>2.0</td>\n",
       "      <td>Normal_Weight</td>\n",
       "    </tr>\n",
       "    <tr>\n",
       "      <th>1</th>\n",
       "      <td>Female</td>\n",
       "      <td>21.0</td>\n",
       "      <td>1.52</td>\n",
       "      <td>56.0</td>\n",
       "      <td>yes</td>\n",
       "      <td>no</td>\n",
       "      <td>3.0</td>\n",
       "      <td>yes</td>\n",
       "      <td>3.0</td>\n",
       "      <td>Normal_Weight</td>\n",
       "    </tr>\n",
       "    <tr>\n",
       "      <th>2</th>\n",
       "      <td>Male</td>\n",
       "      <td>23.0</td>\n",
       "      <td>1.80</td>\n",
       "      <td>77.0</td>\n",
       "      <td>yes</td>\n",
       "      <td>no</td>\n",
       "      <td>2.0</td>\n",
       "      <td>no</td>\n",
       "      <td>2.0</td>\n",
       "      <td>Normal_Weight</td>\n",
       "    </tr>\n",
       "    <tr>\n",
       "      <th>3</th>\n",
       "      <td>Male</td>\n",
       "      <td>27.0</td>\n",
       "      <td>1.80</td>\n",
       "      <td>87.0</td>\n",
       "      <td>no</td>\n",
       "      <td>no</td>\n",
       "      <td>3.0</td>\n",
       "      <td>no</td>\n",
       "      <td>2.0</td>\n",
       "      <td>Overweight_Level_I</td>\n",
       "    </tr>\n",
       "    <tr>\n",
       "      <th>4</th>\n",
       "      <td>Male</td>\n",
       "      <td>22.0</td>\n",
       "      <td>1.78</td>\n",
       "      <td>89.8</td>\n",
       "      <td>no</td>\n",
       "      <td>no</td>\n",
       "      <td>2.0</td>\n",
       "      <td>no</td>\n",
       "      <td>2.0</td>\n",
       "      <td>Overweight_Level_II</td>\n",
       "    </tr>\n",
       "    <tr>\n",
       "      <th>5</th>\n",
       "      <td>Male</td>\n",
       "      <td>29.0</td>\n",
       "      <td>1.62</td>\n",
       "      <td>53.0</td>\n",
       "      <td>no</td>\n",
       "      <td>yes</td>\n",
       "      <td>2.0</td>\n",
       "      <td>no</td>\n",
       "      <td>2.0</td>\n",
       "      <td>Normal_Weight</td>\n",
       "    </tr>\n",
       "    <tr>\n",
       "      <th>6</th>\n",
       "      <td>Female</td>\n",
       "      <td>23.0</td>\n",
       "      <td>1.50</td>\n",
       "      <td>55.0</td>\n",
       "      <td>yes</td>\n",
       "      <td>yes</td>\n",
       "      <td>3.0</td>\n",
       "      <td>no</td>\n",
       "      <td>2.0</td>\n",
       "      <td>Normal_Weight</td>\n",
       "    </tr>\n",
       "    <tr>\n",
       "      <th>7</th>\n",
       "      <td>Male</td>\n",
       "      <td>22.0</td>\n",
       "      <td>1.64</td>\n",
       "      <td>53.0</td>\n",
       "      <td>no</td>\n",
       "      <td>no</td>\n",
       "      <td>2.0</td>\n",
       "      <td>no</td>\n",
       "      <td>2.0</td>\n",
       "      <td>Normal_Weight</td>\n",
       "    </tr>\n",
       "    <tr>\n",
       "      <th>8</th>\n",
       "      <td>Male</td>\n",
       "      <td>24.0</td>\n",
       "      <td>1.78</td>\n",
       "      <td>64.0</td>\n",
       "      <td>yes</td>\n",
       "      <td>yes</td>\n",
       "      <td>3.0</td>\n",
       "      <td>no</td>\n",
       "      <td>2.0</td>\n",
       "      <td>Normal_Weight</td>\n",
       "    </tr>\n",
       "    <tr>\n",
       "      <th>9</th>\n",
       "      <td>Male</td>\n",
       "      <td>22.0</td>\n",
       "      <td>1.72</td>\n",
       "      <td>68.0</td>\n",
       "      <td>yes</td>\n",
       "      <td>yes</td>\n",
       "      <td>2.0</td>\n",
       "      <td>no</td>\n",
       "      <td>2.0</td>\n",
       "      <td>Normal_Weight</td>\n",
       "    </tr>\n",
       "  </tbody>\n",
       "</table>\n",
       "</div>"
      ],
      "text/plain": [
       "     Sexo  Edad  Estatura  Peso FamiliarConSobrepeso ComeMuchasCalorias  \\\n",
       "0  Female  21.0      1.62  64.0                  yes                 no   \n",
       "1  Female  21.0      1.52  56.0                  yes                 no   \n",
       "2    Male  23.0      1.80  77.0                  yes                 no   \n",
       "3    Male  27.0      1.80  87.0                   no                 no   \n",
       "4    Male  22.0      1.78  89.8                   no                 no   \n",
       "5    Male  29.0      1.62  53.0                   no                yes   \n",
       "6  Female  23.0      1.50  55.0                  yes                yes   \n",
       "7    Male  22.0      1.64  53.0                   no                 no   \n",
       "8    Male  24.0      1.78  64.0                  yes                yes   \n",
       "9    Male  22.0      1.72  68.0                  yes                yes   \n",
       "\n",
       "   ComeVegetales Fumador  ConsumoDeAgua      NivelDeObesidad  \n",
       "0            2.0      no            2.0        Normal_Weight  \n",
       "1            3.0     yes            3.0        Normal_Weight  \n",
       "2            2.0      no            2.0        Normal_Weight  \n",
       "3            3.0      no            2.0   Overweight_Level_I  \n",
       "4            2.0      no            2.0  Overweight_Level_II  \n",
       "5            2.0      no            2.0        Normal_Weight  \n",
       "6            3.0      no            2.0        Normal_Weight  \n",
       "7            2.0      no            2.0        Normal_Weight  \n",
       "8            3.0      no            2.0        Normal_Weight  \n",
       "9            2.0      no            2.0        Normal_Weight  "
      ]
     },
     "execution_count": 9,
     "metadata": {},
     "output_type": "execute_result"
    }
   ],
   "source": [
    "import pandas as ps\n",
    "import numpy as np\n",
    "import matplotlib.pyplot as plt\n",
    "datos=ps.read_csv('Obesidad.csv')\n",
    "datos.head(10)"
   ]
  },
  {
   "cell_type": "markdown",
   "metadata": {},
   "source": [
    "2 Imprime en consola o genera un cuadro de descripción que muestre un mensaje donde indiques qué otra variable hubieras decidido medir si formaras parte del grupo de investigación, indicando claramente si la información recopilada se consideraría como cuantitativa o cualitativa."
   ]
  },
  {
   "cell_type": "code",
   "execution_count": 10,
   "metadata": {},
   "outputs": [
    {
     "name": "stdout",
     "output_type": "stream",
     "text": [
      "Frecuencia de ejercicio (cualitativa)\n"
     ]
    }
   ],
   "source": [
    "print(\"Frecuencia de ejercicio (cualitativa)\")"
   ]
  },
  {
   "cell_type": "markdown",
   "metadata": {},
   "source": [
    "3 Si tú fueras el líder del proyecto y quisieras realizar un estudio de inferencia, ¿qué variable de la base de datos definirías como la salida o respuesta? Aquella variable para la que te interesa encontrar asociaciones específicas. Imprime el promedio de dicha variable, si es cuantitativa, o la cantidad de personas que pertenecen a cada categoría, si es cualitativa. \n",
    "- Para calcular el promedio puedes usar la función “mean()” de pandas. \n",
    "- Para calcular la cantidad de personas que pertenecen a cada categoría puedes usar la función “value_counts()” de pandas. "
   ]
  },
  {
   "cell_type": "code",
   "execution_count": 11,
   "metadata": {},
   "outputs": [
    {
     "name": "stdout",
     "output_type": "stream",
     "text": [
      "Mujeres: 1043\tHombres: 1068\n",
      "\n",
      "Promedio de Edad: 24 años\n",
      "\n",
      "Promedio de Estatura: 1.7 m\n",
      "\n",
      "Promedio de Peso: 86.59 kg\n",
      "\n",
      "Tienen familiares con Sobrepeso\tSi: 1726\tNo: 385\n",
      "\n",
      "Come muchas calorías;\tSi: 1866\tNo: 245\n",
      "\n",
      "Ingesta de vegetales en sus comidas:\n",
      "\tNunca: 102\n",
      "\tAlgunas veces: 1013\n",
      "\tSiempre: 996\n",
      "\n",
      "Fumadores: 44\tNo fumadores: 2067\n",
      "\n",
      "Consumo de agua al día:\n",
      "\tMenos de un litro: 485\n",
      "\tEntre uno y dos litros: 1110\n",
      "\tDos litros: 516\n",
      "\n",
      "IMC (índice de masa corporal):\n",
      "\tBajo: 272\n",
      "\tNormal: 287\n",
      "\tSobrepeso I: 290\n",
      "\tSobrepeso II: 290\n",
      "\tObesidad I: 351\n",
      "\tObesidad II: 297\n",
      "\tObesidad III: 324\n"
     ]
    }
   ],
   "source": [
    "sexo=datos.Sexo.value_counts()\n",
    "print(f\"Mujeres: {sexo.Female}\\tHombres: {sexo.Male}\\n\")\n",
    "edadMean=datos.Edad.mean()\n",
    "print(f\"Promedio de Edad: {round(edadMean)} años\\n\")\n",
    "estaturaMean=datos.Estatura.mean()\n",
    "print(f\"Promedio de Estatura: {round(estaturaMean, 2)} m\\n\")\n",
    "pesoMean=datos.Peso.mean()\n",
    "print(f\"Promedio de Peso: {round(pesoMean, 2)} kg\\n\")\n",
    "familia=datos.FamiliarConSobrepeso.value_counts()\n",
    "print(f\"Tienen familiares con Sobrepeso\\tSi: {familia.yes}\\tNo: {familia.no}\\n\")\n",
    "calorias=datos.ComeMuchasCalorias.value_counts()\n",
    "print(f\"Come muchas calorías;\\tSi: {calorias.yes}\\tNo: {calorias.no}\\n\")\n",
    "vegetales=round(datos.ComeVegetales).value_counts()\n",
    "print(f\"Ingesta de vegetales en sus comidas:\\n\\tNunca: {vegetales[1]}\\n\\tAlgunas veces: {vegetales[2]}\\n\\tSiempre: {vegetales[3]}\\n\")\n",
    "fuma=datos.Fumador.value_counts()\n",
    "print(f\"Fumadores: {fuma.yes}\\tNo fumadores: {fuma.no}\\n\")\n",
    "agua=round(datos.ConsumoDeAgua).value_counts()\n",
    "print(f\"Consumo de agua al día:\\n\\tMenos de un litro: {agua[1]}\\n\\tEntre uno y dos litros: {agua[2]}\\n\\tDos litros: {agua[3]}\\n\")\n",
    "imc=datos.NivelDeObesidad.value_counts()\n",
    "print(f\"IMC (índice de masa corporal):\\n\\tBajo: {imc.Insufficient_Weight}\\n\\tNormal: {imc.Normal_Weight}\\n\\tSobrepeso I: {imc.Overweight_Level_I}\\n\\tSobrepeso II: {imc.Overweight_Level_II}\\n\\tObesidad I: {imc.Obesity_Type_I}\\n\\tObesidad II: {imc.Obesity_Type_II}\\n\\tObesidad III: {imc.Obesity_Type_III}\")"
   ]
  },
  {
   "cell_type": "markdown",
   "metadata": {},
   "source": [
    "4 Genera una gráfica, exclusivamente para la población masculina o femenina (cada quién decidirá su población de interés), que muestre en el eje “Y” la variable de salida (de acuerdo a lo que definiste en el punto anterior), y en el eje “X” alguna variable cuantitativa que les llame la atención. Asegúrate de usar un valor de transparencia menor a 0.1. Recuerda la función mágica que debes agregar para que las imágenes se visualicen sin problemas en una Jupyter Notebook."
   ]
  },
  {
   "cell_type": "code",
   "execution_count": 12,
   "metadata": {},
   "outputs": [
    {
     "data": {
      "image/png": "[encoded data removed]",
      "text/plain": [
       "<Figure size 640x480 with 1 Axes>"
      ]
     },
     "metadata": {},
     "output_type": "display_data"
    }
   ],
   "source": [
    "xDatos=datos.Edad[datos.Sexo==\"Male\"]\n",
    "yDatos=datos.NivelDeObesidad[datos.Sexo==\"Male\"]\n",
    "plt.scatter(xDatos, yDatos, alpha=0.1)\n",
    "plt.title('Hombres: Edad vs. IMC (índice de masa corporal)')\n",
    "plt.show()\n",
    "%matplotlib inline"
   ]
  },
  {
   "cell_type": "markdown",
   "metadata": {},
   "source": [
    "**Firma de Honor:** Doy mi palabra que he realizado esta actividad con integridad académica"
   ]
  }
 ],
 "metadata": {
  "kernelspec": {
   "display_name": ".venv",
   "language": "python",
   "name": "python3"
  },
  "language_info": {
   "codemirror_mode": {
    "name": "ipython",
    "version": 3
   },
   "file_extension": ".py",
   "mimetype": "text/x-python",
   "name": "python",
   "nbconvert_exporter": "python",
   "pygments_lexer": "ipython3",
   "version": "3.13.0"
  }
 },
 "nbformat": 4,
 "nbformat_minor": 2
}
