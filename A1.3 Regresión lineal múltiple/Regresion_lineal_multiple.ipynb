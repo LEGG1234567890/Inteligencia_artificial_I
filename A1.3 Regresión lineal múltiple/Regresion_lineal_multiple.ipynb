{
 "cells": [
  {
   "cell_type": "markdown",
   "metadata": {},
   "source": [
    "# A1.3 Regresión lineal múltiple\n",
    "## Luis Enrique Garcia Gallegos\n",
    "### Matricula: 649247\n",
    "Después de haber trabajado con la regresión lineal simple, es momento de tomar un reto mayor, pero a la vez, mucho más adecuado para problemas reales: la regresión lineal múltiple. En esta ocasión practicarás con una base de datos de la NASA, con la que trabajaron para tratar de determinar perfiles aerodinámicos ideales ante distintas condiciones, como: la velocidad del viento y ángulo de ataque del mismo. \n",
    "Utilizaremos el archivo de nombre `NASA.csv`, donde podrás encontrar información para 1,052 observaciones distintas, con 6 mediciones para cada una de ellas. Los datos se descargaron del __[UCI Machine Learning Repository](https://archive.ics.uci.edu/dataset/291/airfoil+self+noise)__, y originalmente se publicaron en el __[NASA Reference Publication 1218](https://ntrs.nasa.gov/api/citations/19890016302/downloads/19890016302.pdf)__.\n",
    "La base de datos cuenta con la siguiente información: \n",
    "* `frecuencia`. Frecuencia, en **Hz**. \n",
    "* `angulo`. Ángulo de ataque, en **grados**. \n",
    "* `longitud`. Longitud de cuerda geométrica, en **metros**.\n",
    "* `velocidad`. Velocidad de flujo libre, en **metros por segundo**. \n",
    "* `espesor`. Espesor del desplazamiento en el lado de succión, en **metros**. \n",
    "* `presion`. Nivel escalado de presión sonora, en **dB**. \n",
    "\n",
    "Desarrolla los siguientes puntos en una *Jupyter Notebook*, tratando, dentro de lo posible, que cada punto se trabaje en una celda distinta. Los comentarios en el código siempre son bienvenidos, de preferencia, aprovecha el *markdown* para generar cuadros de descripción que ayuden al lector a comprender el trabajo realizado. \n",
    "1. Importa los datos del archivo `NASA.csv` a tu ambiente de trabajo. Este archivo lo encontrarás en la misma página donde descargaste esta plantilla. Revisa las dimensiones del *data frame* e imprime en consola tanto dichas dimensiones como las primeras **15** filas de datos. "
   ]
  },
  {
   "cell_type": "code",
   "execution_count": 1,
   "metadata": {},
   "outputs": [
    {
     "name": "stdout",
     "output_type": "stream",
     "text": [
      "Dimensiones de los datos:  (1503, 6) \n",
      "Nombres de las variables:  Index(['frecuencia', 'angulo', 'longitud', 'velocidad', 'espesor', 'presion'], dtype='object')\n"
     ]
    },
    {
     "data": {
      "text/html": [
       "<div>\n",
       "<style scoped>\n",
       "    .dataframe tbody tr th:only-of-type {\n",
       "        vertical-align: middle;\n",
       "    }\n",
       "\n",
       "    .dataframe tbody tr th {\n",
       "        vertical-align: top;\n",
       "    }\n",
       "\n",
       "    .dataframe thead th {\n",
       "        text-align: right;\n",
       "    }\n",
       "</style>\n",
       "<table border=\"1\" class=\"dataframe\">\n",
       "  <thead>\n",
       "    <tr style=\"text-align: right;\">\n",
       "      <th></th>\n",
       "      <th>frecuencia</th>\n",
       "      <th>angulo</th>\n",
       "      <th>longitud</th>\n",
       "      <th>velocidad</th>\n",
       "      <th>espesor</th>\n",
       "      <th>presion</th>\n",
       "    </tr>\n",
       "  </thead>\n",
       "  <tbody>\n",
       "    <tr>\n",
       "      <th>0</th>\n",
       "      <td>800</td>\n",
       "      <td>0.0</td>\n",
       "      <td>0.3048</td>\n",
       "      <td>71.3</td>\n",
       "      <td>0.002663</td>\n",
       "      <td>126.201</td>\n",
       "    </tr>\n",
       "    <tr>\n",
       "      <th>1</th>\n",
       "      <td>1000</td>\n",
       "      <td>0.0</td>\n",
       "      <td>0.3048</td>\n",
       "      <td>71.3</td>\n",
       "      <td>0.002663</td>\n",
       "      <td>125.201</td>\n",
       "    </tr>\n",
       "    <tr>\n",
       "      <th>2</th>\n",
       "      <td>1250</td>\n",
       "      <td>0.0</td>\n",
       "      <td>0.3048</td>\n",
       "      <td>71.3</td>\n",
       "      <td>0.002663</td>\n",
       "      <td>125.951</td>\n",
       "    </tr>\n",
       "    <tr>\n",
       "      <th>3</th>\n",
       "      <td>1600</td>\n",
       "      <td>0.0</td>\n",
       "      <td>0.3048</td>\n",
       "      <td>71.3</td>\n",
       "      <td>0.002663</td>\n",
       "      <td>127.591</td>\n",
       "    </tr>\n",
       "    <tr>\n",
       "      <th>4</th>\n",
       "      <td>2000</td>\n",
       "      <td>0.0</td>\n",
       "      <td>0.3048</td>\n",
       "      <td>71.3</td>\n",
       "      <td>0.002663</td>\n",
       "      <td>127.461</td>\n",
       "    </tr>\n",
       "    <tr>\n",
       "      <th>5</th>\n",
       "      <td>2500</td>\n",
       "      <td>0.0</td>\n",
       "      <td>0.3048</td>\n",
       "      <td>71.3</td>\n",
       "      <td>0.002663</td>\n",
       "      <td>125.571</td>\n",
       "    </tr>\n",
       "    <tr>\n",
       "      <th>6</th>\n",
       "      <td>3150</td>\n",
       "      <td>0.0</td>\n",
       "      <td>0.3048</td>\n",
       "      <td>71.3</td>\n",
       "      <td>0.002663</td>\n",
       "      <td>125.201</td>\n",
       "    </tr>\n",
       "    <tr>\n",
       "      <th>7</th>\n",
       "      <td>4000</td>\n",
       "      <td>0.0</td>\n",
       "      <td>0.3048</td>\n",
       "      <td>71.3</td>\n",
       "      <td>0.002663</td>\n",
       "      <td>123.061</td>\n",
       "    </tr>\n",
       "    <tr>\n",
       "      <th>8</th>\n",
       "      <td>5000</td>\n",
       "      <td>0.0</td>\n",
       "      <td>0.3048</td>\n",
       "      <td>71.3</td>\n",
       "      <td>0.002663</td>\n",
       "      <td>121.301</td>\n",
       "    </tr>\n",
       "    <tr>\n",
       "      <th>9</th>\n",
       "      <td>6300</td>\n",
       "      <td>0.0</td>\n",
       "      <td>0.3048</td>\n",
       "      <td>71.3</td>\n",
       "      <td>0.002663</td>\n",
       "      <td>119.541</td>\n",
       "    </tr>\n",
       "    <tr>\n",
       "      <th>10</th>\n",
       "      <td>8000</td>\n",
       "      <td>0.0</td>\n",
       "      <td>0.3048</td>\n",
       "      <td>71.3</td>\n",
       "      <td>0.002663</td>\n",
       "      <td>117.151</td>\n",
       "    </tr>\n",
       "    <tr>\n",
       "      <th>11</th>\n",
       "      <td>10000</td>\n",
       "      <td>0.0</td>\n",
       "      <td>0.3048</td>\n",
       "      <td>71.3</td>\n",
       "      <td>0.002663</td>\n",
       "      <td>115.391</td>\n",
       "    </tr>\n",
       "    <tr>\n",
       "      <th>12</th>\n",
       "      <td>12500</td>\n",
       "      <td>0.0</td>\n",
       "      <td>0.3048</td>\n",
       "      <td>71.3</td>\n",
       "      <td>0.002663</td>\n",
       "      <td>112.241</td>\n",
       "    </tr>\n",
       "    <tr>\n",
       "      <th>13</th>\n",
       "      <td>16000</td>\n",
       "      <td>0.0</td>\n",
       "      <td>0.3048</td>\n",
       "      <td>71.3</td>\n",
       "      <td>0.002663</td>\n",
       "      <td>108.721</td>\n",
       "    </tr>\n",
       "    <tr>\n",
       "      <th>14</th>\n",
       "      <td>500</td>\n",
       "      <td>0.0</td>\n",
       "      <td>0.3048</td>\n",
       "      <td>55.5</td>\n",
       "      <td>0.002831</td>\n",
       "      <td>126.416</td>\n",
       "    </tr>\n",
       "  </tbody>\n",
       "</table>\n",
       "</div>"
      ],
      "text/plain": [
       "    frecuencia  angulo  longitud  velocidad   espesor  presion\n",
       "0          800     0.0    0.3048       71.3  0.002663  126.201\n",
       "1         1000     0.0    0.3048       71.3  0.002663  125.201\n",
       "2         1250     0.0    0.3048       71.3  0.002663  125.951\n",
       "3         1600     0.0    0.3048       71.3  0.002663  127.591\n",
       "4         2000     0.0    0.3048       71.3  0.002663  127.461\n",
       "5         2500     0.0    0.3048       71.3  0.002663  125.571\n",
       "6         3150     0.0    0.3048       71.3  0.002663  125.201\n",
       "7         4000     0.0    0.3048       71.3  0.002663  123.061\n",
       "8         5000     0.0    0.3048       71.3  0.002663  121.301\n",
       "9         6300     0.0    0.3048       71.3  0.002663  119.541\n",
       "10        8000     0.0    0.3048       71.3  0.002663  117.151\n",
       "11       10000     0.0    0.3048       71.3  0.002663  115.391\n",
       "12       12500     0.0    0.3048       71.3  0.002663  112.241\n",
       "13       16000     0.0    0.3048       71.3  0.002663  108.721\n",
       "14         500     0.0    0.3048       55.5  0.002831  126.416"
      ]
     },
     "execution_count": 1,
     "metadata": {},
     "output_type": "execute_result"
    }
   ],
   "source": [
    "import pandas as ps\n",
    "import numpy as np\n",
    "import matplotlib.pyplot as plt\n",
    "import statsmodels.api as sm\n",
    "import scipy.stats as st\n",
    "from math import sqrt\n",
    "datos=ps.read_csv('NASA.csv')\n",
    "print(\"Dimensiones de los datos: \",datos.shape, \"\\nNombres de las variables: \", datos.columns)\n",
    "datos.head(15)"
   ]
  },
  {
   "cell_type": "markdown",
   "metadata": {},
   "source": [
    "2. Separa el *data frame* en datos de entrenamiento y datos de prueba con una proporción **70/30**. Es decir, el *70%* de los datos se usarán para entrenar el modelo y el resto para validar sus resultados. Asegúrate que la partición sea aleatoria, no es una buena práctica simplemente tomar las primeras observaciones para entrenar y las últimas para probar. Imprime en pantalla las dimensiones de ambos conjuntos de datos. Revisa y asegúrate que la cantidad de observaciones de ambos conjuntos de datos sumen a la cantidad de datos original."
   ]
  },
  {
   "cell_type": "code",
   "execution_count": 2,
   "metadata": {},
   "outputs": [
    {
     "name": "stdout",
     "output_type": "stream",
     "text": [
      "Datos de entrenamiento:  (1052, 6) \tDatos de prueba:  (451, 6) \n",
      "Total de datos:  1503\n"
     ]
    }
   ],
   "source": [
    "caliz=datos.sample(frac=0.7)\n",
    "prueba=datos.drop(caliz.index)\n",
    "nC=caliz.shape[0]\n",
    "mC=caliz.shape[1]\n",
    "nP=prueba.shape[0]\n",
    "mP=prueba.shape[1]\n",
    "print(\"Datos de entrenamiento: \", caliz.shape, \"\\tDatos de prueba: \",prueba.shape, \"\\nTotal de datos: \", (nC+nP))"
   ]
  },
  {
   "cell_type": "markdown",
   "metadata": {},
   "source": [
    "No se usaron todos los datos ya que tendríamos que saber que tan bueno es nuestro modelo, por lo que si le volvíamos a dar los mismos datos que se usaron para entrenar unicamente lograríamos que acertara en las predicciones.\n",
    "\n",
    "3. Entrena un modelo de regresión lineal múltiple, para que las primeras **5** variables del sistema intenten predecir a la sexta, `presion`. Es decir, nos interesa tratar de predecir el aerodinamismo, medido como la presión sonora detectada. Imprime en pantalla un resumen del modelo, donde se muestre claramente el coeficiente estimado de cada \n",
    "variable, así como su `p-value` asociado, entre otras cosas. Es probable que los *p-values* se vean como **0.000**, en ese caso, imprimir manualmente los valores exactos de dichas métricas (recuerda el atributo `pvalues`)."
   ]
  },
  {
   "cell_type": "code",
   "execution_count": 3,
   "metadata": {},
   "outputs": [
    {
     "name": "stdout",
     "output_type": "stream",
     "text": [
      "                            OLS Regression Results                            \n",
      "==============================================================================\n",
      "Dep. Variable:                presion   R-squared:                       0.498\n",
      "Model:                            OLS   Adj. R-squared:                  0.496\n",
      "Method:                 Least Squares   F-statistic:                     207.9\n",
      "Date:                Tue, 18 Feb 2025   Prob (F-statistic):          6.13e-154\n",
      "Time:                        08:34:19   Log-Likelihood:                -3155.6\n",
      "No. Observations:                1052   AIC:                             6323.\n",
      "Df Residuals:                    1046   BIC:                             6353.\n",
      "Df Model:                           5                                         \n",
      "Covariance Type:            nonrobust                                         \n",
      "==============================================================================\n",
      "                 coef    std err          t      P>|t|      [0.025      0.975]\n",
      "------------------------------------------------------------------------------\n",
      "const        132.7311      0.673    197.349      0.000     131.411     134.051\n",
      "frecuencia    -0.0013   5.13e-05    -24.932      0.000      -0.001      -0.001\n",
      "angulo        -0.3745      0.047     -7.993      0.000      -0.466      -0.283\n",
      "longitud     -34.6863      2.008    -17.275      0.000     -38.626     -30.746\n",
      "velocidad      0.0942      0.010      9.506      0.000       0.075       0.114\n",
      "espesor     -155.0045     17.849     -8.684      0.000    -190.029    -119.980\n",
      "==============================================================================\n",
      "Omnibus:                       10.433   Durbin-Watson:                   1.968\n",
      "Prob(Omnibus):                  0.005   Jarque-Bera (JB):               14.382\n",
      "Skew:                          -0.087   Prob(JB):                     0.000753\n",
      "Kurtosis:                       3.545   Cond. No.                     5.06e+05\n",
      "==============================================================================\n",
      "\n",
      "Notes:\n",
      "[1] Standard Errors assume that the covariance matrix of the errors is correctly specified.\n",
      "[2] The condition number is large, 5.06e+05. This might indicate that there are\n",
      "strong multicollinearity or other numerical problems.\n",
      "\n",
      "\tp-values\n",
      " const          0.000000e+00\n",
      "frecuencia    4.614592e-108\n",
      "angulo         3.474361e-15\n",
      "longitud       5.074221e-59\n",
      "velocidad      1.311661e-20\n",
      "espesor        1.446834e-17\n",
      "dtype: float64\n"
     ]
    }
   ],
   "source": [
    "XC=caliz.drop('presion', axis=1)\n",
    "YC=caliz.presion\n",
    "modeloC=sm.OLS(YC, sm.add_constant(XC))\n",
    "resultados=modeloC.fit()\n",
    "resumen=resultados.summary()\n",
    "print(resumen)\n",
    "pvalues= resultados.pvalues\n",
    "print(\"\\n\\tp-values\\n\",pvalues)"
   ]
  },
  {
   "cell_type": "markdown",
   "metadata": {},
   "source": [
    "Como se puede observar los `p-values` son muy pequeños y al hacer un redondeo o truncamiento a **3** decimales estos se transforman en **0.000**.\n",
    "\n",
    "4. A partir de los resultados mostrados en la tabla, indica si consideras que existe al menos una variable significativa en el modelo. Adicionalmente, indica específicamente cuál o cuáles variables específicas tienen una asociación lineal significativa con la salida y cuál considerarías que es la variable más importante del modelo. Imprime en consola cada una de estas aseveraciones como texto, pero indica claramente en qué métrica te estás basando para llegar a cada conclusión."
   ]
  },
  {
   "cell_type": "code",
   "execution_count": 4,
   "metadata": {},
   "outputs": [
    {
     "name": "stdout",
     "output_type": "stream",
     "text": [
      "Variable significativa\n",
      "const\tespesor\n",
      "\n",
      "Variable no significativa\n",
      "frecuencia\tvelocidad\n"
     ]
    }
   ],
   "source": [
    "print(\"Variable significativa\\nconst\\tespesor\\n\")\n",
    "print(\"Variable no significativa\\nfrecuencia\\tvelocidad\")\n",
    "#   Me baso en los p-values debido a que tan grandes o pequeños son entre ellos,\n",
    "#   sin embargo para la variable const supongo que tiene una fuerte relación debido a que es cero."
   ]
  },
  {
   "cell_type": "markdown",
   "metadata": {},
   "source": [
    "5. Calcula el *residual standard error* y la 𝑅$^2$ del modelo, tanto para los datos de entrenamiento como para los datos de validación e imprime dichos valores en la consola. Para el cálculo de las métricas en el conjunto de entrenamiento, te recomiendo usar los atributos `scale` (y sacar la raíz cuadrada) y `rsquared`."
   ]
  },
  {
   "cell_type": "code",
   "execution_count": 5,
   "metadata": {},
   "outputs": [
    {
     "name": "stdout",
     "output_type": "stream",
     "text": [
      "RSS de entrenamiento: 49498.0052\n",
      "R^2 de entrenamiento: 0.4984\n",
      "\n",
      "RSS de prueba: 9844.8598\n",
      "R^2 de prueba: 0.5521\n"
     ]
    }
   ],
   "source": [
    "ySombreroC=resultados.predict(sm.add_constant(XC))\n",
    "yMeanC=np.mean(YC)\n",
    "essC=sum((ySombreroC-yMeanC)**2)\n",
    "emsC=essC/mC\n",
    "rssC=sum((YC-yMeanC)**2)\n",
    "rmsC=rssC/(nC-mC-1)\n",
    "funC=emsC/rmsC\n",
    "pvalueC=st.f.sf(funC, mC, (nC-mC-1))\n",
    "XP=prueba.drop('presion', axis = 1)\n",
    "ySombreroP=resultados.predict(sm.add_constant(XP))\n",
    "YP=prueba.presion\n",
    "rssP=sum((YP-ySombreroP)**2)\n",
    "tssP=sum((YP-np.mean(YP))**2)\n",
    "rseP=sqrt(rssP/(nP-mP-1))\n",
    "r2P=1-rssP/tssP\n",
    "print(f\"RSS de entrenamiento: {round(rssC, 4)}\\nR^2 de entrenamiento: {round(resultados.rsquared, 4)}\\n\")\n",
    "print(f\"RSS de prueba: {round(rssP, 4)}\\nR^2 de prueba: {round(r2P, 4)}\")"
   ]
  },
  {
   "cell_type": "markdown",
   "metadata": {},
   "source": [
    "El `RSS` bajo significativamente entre el entrenamiento y la prueba, por lo que se puede intuir que logra ajustarse de mejor manera, y esto se puede reafirmar viendo el 𝑅$^2$, en el cual cambio poco.\n",
    "\n",
    "6. Finalmente, tratemos de visualizar los resultados obtenidos. Genera una gráfica de dispersión que cuente con el valor real de Y (la presión sonora) para el conjunto de datos de validación en el eje **x**, y que cuente con el valor estimado de **Y**, de acuerdo al modelo, para el mismo conjunto de datos en el eje **y**. Idealmente, si el modelo fuera perfecto, se tendría una línea recta con una pendiente de **1** ***(45 grados)***, pues el valor real y el valor estimado serían idénticos. Esta es una manera cualitativa de evaluar la calidad de nuestro modelo, entre más se asemejen los puntos a una línea recta, mejor. Comenta sobre los resultados obtenidos."
   ]
  },
  {
   "cell_type": "code",
   "execution_count": 6,
   "metadata": {},
   "outputs": [
    {
     "data": {
      "image/png": "[encoded data removed]",
      "text/plain": [
       "<Figure size 640x480 with 1 Axes>"
      ]
     },
     "metadata": {},
     "output_type": "display_data"
    }
   ],
   "source": [
    "plt.scatter(YP, ySombreroP)\n",
    "plt.title('Real vs. Predicción')\n",
    "plt.xlabel(\"Valores reales\")\n",
    "plt.ylabel(\"Valores predecidos\")\n",
    "plt.axis('equal')\n",
    "plt.show()"
   ]
  },
  {
   "cell_type": "markdown",
   "metadata": {},
   "source": [
    "Como lo había mencionado, antes pues vemos que si comparamos las predicciones con los valores reales podemos ver una tendencia a acercarse o aproximarse a lo real.\n",
    "\n",
    "**Firma de Honor:** Doy mi palabra que he realizado esta actividad con integridad académica"
   ]
  }
 ],
 "metadata": {
  "kernelspec": {
   "display_name": "anaconda-toolbox",
   "language": "python",
   "name": "python3"
  },
  "language_info": {
   "codemirror_mode": {
    "name": "ipython",
    "version": 3
   },
   "file_extension": ".py",
   "mimetype": "text/x-python",
   "name": "python",
   "nbconvert_exporter": "python",
   "pygments_lexer": "ipython3",
   "version": "3.12.8"
  }
 },
 "nbformat": 4,
 "nbformat_minor": 2
}
