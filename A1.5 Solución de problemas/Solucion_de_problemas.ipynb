{
 "cells": [
  {
   "cell_type": "markdown",
   "metadata": {},
   "source": [
    "# A1.5 Solución de problemas\n",
    "## Luis Enrique Garcia Gallegos\n",
    "### **Matricula**: 649247\n",
    "Para esta actividad trabajaremos con la base de datos de calificaciones que utilizamos en la lectura interactiva `L1.1 Aprendizaje estadístico-automático`. Nos interesa tratar de predecir la calificación final de estudiantes de un curso, a partir de su información demográfica y sus calificaciones de los primeros dos periodos. \n",
    "Utilizaremos el archivo de nombre `Calificaciones.csv`, donde podrás encontrar información para **395 estudiantes**, con **10 variables** en total. Los datos se descargaron del Student Performance Data Set en el __[UCI Machine Learning Repository](https://archive.ics.uci.edu/dataset/320/student+performance)__, y podrás encontrar más información sobre los mismos en el siguiente __[enlace](http://www3.dsi.uminho.pt/pcortez/student.pdf)__.\n",
    "\n",
    "La base de datos cuenta con la siguiente información: \n",
    "* `Escuela`. Indica si el estudiante en cuestión asistía a la escuela *Gabriel Pereira* **GP** o a la escuela *Mousinho da Silveira* **MS**.\n",
    "* `Sexo`. **F** para mujeres y **H** para hombres. \n",
    "* `Edad`. Edad del estudiante, en **años**. \n",
    "* `HorasDeEstudio`. Cantidad de horas de estudio: **1** indica menos de dos horas, **2** indica de dos a cinco horas, **3** indica de cinco a diez horas, **4** indica más de diez horas. \n",
    "* `Reprobadas`. Indica la cantidad de materias reprobadas previamente. \n",
    "* `Internet`. Si el estudiante tenía acceso **yes** o no **no** a internet en su casa. \n",
    "* `Faltas`. Cantidad de veces que faltó a clases. \n",
    "* `G1`. Calificación del primer periodo, escala del **0** al **20**. \n",
    "* `G2`. Calificación del segundo periodo, escala del **0** al **20**. \n",
    "* `G3`. Calificación final, escala del **0** al **20**. \n",
    "\n",
    "Desarrolla los siguientes puntos en una *Jupyter Notebook*, tratando, dentro de lo posible, que cada punto se trabaje en una celda distinta. Los comentarios en el código siempre son bienvenidos, de preferencia, aprovecha el *markdown* para generar cuadros de descripción que ayuden al lector a comprender el trabajo realizado. \n",
    "1. Importa los datos del archivo `Calificaciones.csv` a tu ambiente de trabajo. Este archivo lo encontrarás en la misma página donde descargaste esta plantilla. Imprime en consola el tipo de dato de cada variable del *data frame*. "
   ]
  },
  {
   "cell_type": "code",
   "execution_count": 1,
   "metadata": {},
   "outputs": [
    {
     "name": "stdout",
     "output_type": "stream",
     "text": [
      "Variables:\n",
      "\t Index(['Escuela', 'Sexo', 'Edad', 'HorasDeEstudio', 'Reprobadas', 'Internet',\n",
      "       'Faltas', 'G1', 'G2', 'G3'],\n",
      "      dtype='object')\n"
     ]
    }
   ],
   "source": [
    "import pandas as ps\n",
    "import numpy as np\n",
    "import matplotlib.pyplot as plt\n",
    "import statsmodels.api as sm\n",
    "import random\n",
    "from seaborn import heatmap\n",
    "random.seed(0)\n",
    "datos=ps.read_csv(\"Calificaciones.csv\")\n",
    "print(\"Variables:\\n\\t\", datos.columns)"
   ]
  },
  {
   "cell_type": "markdown",
   "metadata": {},
   "source": [
    "Se decidió usar una semilla para evitar tener aleatoriedad en nuestros datos.\n",
    "\n",
    "2. Transforma todas las variables categóricas, de forma que los nuevos datos sean útiles para generar un modelo de regresión lineal múltiple. Presta especial atención a variables que, aunque parecen cuantitativas (contienen números), realmente son cualitativas (los números representan una clase). Imprime **las primeras 5 observaciones** de la base de datos modificada, demostrando que las variables cualitativas desaparecieron y fueron reemplazadas por variables adecuadas."
   ]
  },
  {
   "cell_type": "code",
   "execution_count": 2,
   "metadata": {},
   "outputs": [
    {
     "data": {
      "text/html": [
       "<div>\n",
       "<style scoped>\n",
       "    .dataframe tbody tr th:only-of-type {\n",
       "        vertical-align: middle;\n",
       "    }\n",
       "\n",
       "    .dataframe tbody tr th {\n",
       "        vertical-align: top;\n",
       "    }\n",
       "\n",
       "    .dataframe thead th {\n",
       "        text-align: right;\n",
       "    }\n",
       "</style>\n",
       "<table border=\"1\" class=\"dataframe\">\n",
       "  <thead>\n",
       "    <tr style=\"text-align: right;\">\n",
       "      <th></th>\n",
       "      <th>Escuela_GP</th>\n",
       "      <th>Sexo_F</th>\n",
       "      <th>Edad</th>\n",
       "      <th>Reprobadas</th>\n",
       "      <th>Internet_yes</th>\n",
       "      <th>Faltas</th>\n",
       "      <th>G1</th>\n",
       "      <th>G2</th>\n",
       "      <th>G3</th>\n",
       "      <th>Horas4</th>\n",
       "      <th>Horas3</th>\n",
       "      <th>Horas2</th>\n",
       "    </tr>\n",
       "  </thead>\n",
       "  <tbody>\n",
       "    <tr>\n",
       "      <th>0</th>\n",
       "      <td>1</td>\n",
       "      <td>1</td>\n",
       "      <td>18</td>\n",
       "      <td>0</td>\n",
       "      <td>0</td>\n",
       "      <td>6</td>\n",
       "      <td>5</td>\n",
       "      <td>6</td>\n",
       "      <td>6</td>\n",
       "      <td>0</td>\n",
       "      <td>0</td>\n",
       "      <td>1</td>\n",
       "    </tr>\n",
       "    <tr>\n",
       "      <th>1</th>\n",
       "      <td>1</td>\n",
       "      <td>1</td>\n",
       "      <td>17</td>\n",
       "      <td>0</td>\n",
       "      <td>1</td>\n",
       "      <td>4</td>\n",
       "      <td>5</td>\n",
       "      <td>5</td>\n",
       "      <td>6</td>\n",
       "      <td>0</td>\n",
       "      <td>0</td>\n",
       "      <td>1</td>\n",
       "    </tr>\n",
       "    <tr>\n",
       "      <th>2</th>\n",
       "      <td>1</td>\n",
       "      <td>1</td>\n",
       "      <td>15</td>\n",
       "      <td>3</td>\n",
       "      <td>1</td>\n",
       "      <td>10</td>\n",
       "      <td>7</td>\n",
       "      <td>8</td>\n",
       "      <td>10</td>\n",
       "      <td>0</td>\n",
       "      <td>0</td>\n",
       "      <td>1</td>\n",
       "    </tr>\n",
       "    <tr>\n",
       "      <th>3</th>\n",
       "      <td>1</td>\n",
       "      <td>1</td>\n",
       "      <td>15</td>\n",
       "      <td>0</td>\n",
       "      <td>1</td>\n",
       "      <td>2</td>\n",
       "      <td>15</td>\n",
       "      <td>14</td>\n",
       "      <td>15</td>\n",
       "      <td>0</td>\n",
       "      <td>1</td>\n",
       "      <td>0</td>\n",
       "    </tr>\n",
       "    <tr>\n",
       "      <th>4</th>\n",
       "      <td>1</td>\n",
       "      <td>1</td>\n",
       "      <td>16</td>\n",
       "      <td>0</td>\n",
       "      <td>0</td>\n",
       "      <td>4</td>\n",
       "      <td>6</td>\n",
       "      <td>10</td>\n",
       "      <td>10</td>\n",
       "      <td>0</td>\n",
       "      <td>0</td>\n",
       "      <td>1</td>\n",
       "    </tr>\n",
       "  </tbody>\n",
       "</table>\n",
       "</div>"
      ],
      "text/plain": [
       "   Escuela_GP  Sexo_F  Edad  Reprobadas  Internet_yes  Faltas  G1  G2  G3  \\\n",
       "0           1       1    18           0             0       6   5   6   6   \n",
       "1           1       1    17           0             1       4   5   5   6   \n",
       "2           1       1    15           3             1      10   7   8  10   \n",
       "3           1       1    15           0             1       2  15  14  15   \n",
       "4           1       1    16           0             0       4   6  10  10   \n",
       "\n",
       "   Horas4  Horas3  Horas2  \n",
       "0       0       0       1  \n",
       "1       0       0       1  \n",
       "2       0       0       1  \n",
       "3       0       1       0  \n",
       "4       0       0       1  "
      ]
     },
     "execution_count": 2,
     "metadata": {},
     "output_type": "execute_result"
    }
   ],
   "source": [
    "for columnas in ['Escuela', 'Sexo', 'Internet']:\n",
    "    insert_loc=datos.columns.get_loc(columnas)\n",
    "    datos=ps.concat([datos.iloc[:,:insert_loc], ps.get_dummies(datos.loc[:, [columnas]]), datos.iloc[:,insert_loc+1:]], axis=1)\n",
    "datos['Horas4']=datos['HorasDeEstudio']//4\n",
    "datos['Horas3']=(datos['HorasDeEstudio']//3)-datos['Horas4']\n",
    "datos['Horas2']=(datos['HorasDeEstudio']//2)-datos['Horas3']-(2*datos['Horas4'])\n",
    "datos=datos.drop(columns=['Internet_no', 'Escuela_MS', 'Sexo_M', 'HorasDeEstudio'])\n",
    "datos=datos.astype({'Escuela_GP': 'int8', 'Sexo_F': 'int8', 'Internet_yes': 'int8'})\n",
    "datos.head(5)"
   ]
  },
  {
   "cell_type": "markdown",
   "metadata": {},
   "source": [
    "Se convirtió las variables que tuvieran algo distinto de números a booleanos, por ejemplo en `Escuela`, se crearían **2 columnas** siendo `Escuela_GP` y `Escuela_MS` los cuales contendrían **False** o **True**, por lo que si las comparáramos veríamos que una es lo opuesto de la otra por lo que lo mejor seria eliminar una de las dos. De ahi deberemos pasar de booleano a entero, para poder usarlos en un modelo lineal multiple. Para poder hacer eso con horas de estudio se tuvo que crear columnas en la cuales pudiéramos pasar cada numero a **0** y **1**, pero para eso tendremos que pasar el numero desdado a **1** y lo demás a **0**, eso no se hizo con el **1** porque seria innecesario.\n",
    "\n",
    "3. Identifica valores atípicos para la variable `Faltas`, utilizando el ***método de Tukey*** con `k=3`. Imprime en consola todas las observaciones que se consideren atípicas, y tras revisar las características de dichas observaciones, agrega una línea de texto que describa qué planeas hacer con dichos valores y por qué. Realiza la acción descrita en caso de ser necesario."
   ]
  },
  {
   "cell_type": "code",
   "execution_count": 3,
   "metadata": {},
   "outputs": [
    {
     "name": "stdout",
     "output_type": "stream",
     "text": [
      "0.0 - 24.0 < 4.0 < 8.0 + 24.0\n",
      "\n",
      "Dimensiones de los datos:  (395, 12)\n",
      "\n",
      "Valores atípicos\n",
      "     Escuela_GP  Sexo_F  Edad  Reprobadas  Internet_yes  Faltas  G1  G2  G3  \\\n",
      "74            1       1    16           0             1      54  11  12  11   \n",
      "183           1       1    17           0             1      56   9   9   8   \n",
      "276           1       1    18           0             1      75  10   9   9   \n",
      "307           1       0    19           1             1      38   8   9   8   \n",
      "315           1       1    19           1             1      40  13  11  11   \n",
      "\n",
      "     Horas4  Horas3  Horas2  \n",
      "74        0       0       1  \n",
      "183       0       0       1  \n",
      "276       0       0       1  \n",
      "307       0       0       0  \n",
      "315       0       1       0  \n",
      "\n",
      "Dimensiones de los datos:  (390, 12)\n",
      "Empty DataFrame\n",
      "Columns: [Escuela_GP, Sexo_F, Edad, Reprobadas, Internet_yes, Faltas, G1, G2, G3, Horas4, Horas3, Horas2]\n",
      "Index: []\n"
     ]
    }
   ],
   "source": [
    "q1=datos.Faltas.quantile(0.25)\n",
    "q3=datos.Faltas.quantile(0.75)\n",
    "riq=q3-q1\n",
    "limA=q1-(3*riq)\n",
    "limB=q3+(3*riq)\n",
    "atipico=datos[(datos.Faltas<limA)|(datos.Faltas>limB)]\n",
    "print(q1, \"-\", (3*riq), \"<\",np.median(datos.Faltas), \"<\", q3, \"+\", (3*riq))\n",
    "print(\"\\nDimensiones de los datos: \",datos.shape)\n",
    "print(\"\\nValores atípicos\")\n",
    "print(datos[datos.Faltas>(q3+(3*riq))])\n",
    "datos=datos[datos.Faltas<=(q3+(3*riq))]\n",
    "print(\"\\nDimensiones de los datos: \",datos.shape)\n",
    "print(datos[datos.Faltas>(q3+(3*riq))])"
   ]
  },
  {
   "cell_type": "markdown",
   "metadata": {},
   "source": [
    "El **método de Tukey** nos permite conocer si un valor esta fuera de lo común, en nuestro caso para `Faltas` nuestro intervalo seria de **-24** a **32**, no obstante como sabemos el contexto de nuestros datos sabemos que no se puede tener faltas negativas por lo que solamente se considerara el intervalo de **0** a **32** como lo normal, los valores fuera de este intervalo serán borrados, esto no quiere decir que se borren porque no es posible tener **más de 32 faltas**, sino porque son muy pocos los casos por lo que al entrenar nuestro modelo esto podría traer malas aproximaciones.\n",
    "\n",
    "4. Genera una matriz de correlaciones para encontrar potenciales problemas de colinealidad. Genera un ***heatmap*** para visualizar de forma más sencilla los resultados. Determina si es necesario eliminar una o múltiples variables, explicando tu razonamiento en una línea de texto. Realiza la acción descrita en caso de ser necesario."
   ]
  },
  {
   "cell_type": "code",
   "execution_count": 4,
   "metadata": {},
   "outputs": [
    {
     "data": {
      "text/plain": [
       "<Axes: >"
      ]
     },
     "execution_count": 4,
     "metadata": {},
     "output_type": "execute_result"
    },
    {
     "data": {
      "image/png": "[encoded data removed]",
      "text/plain": [
       "<Figure size 640x480 with 2 Axes>"
      ]
     },
     "metadata": {},
     "output_type": "display_data"
    }
   ],
   "source": [
    "correlaciones=datos.corr()\n",
    "heatmap(correlaciones)"
   ]
  },
  {
   "cell_type": "markdown",
   "metadata": {},
   "source": [
    "Con este ***heatmap*** podemos visualizar de mejor manera las correlaciones de nuestra variables, algo importante a destacar es que entre más cerca de **1** es una buena correlación, no obstante tenemos valores negativos, los cuales pueden tener una buena correlación por lo que debemos tener cuidado de pensar que si es negativo es una variable que no tiene correlación.\n",
    "\n",
    "5. Incluye términos de interacción para al **menos dos pares de variables**, las que te llame más la atención analizar con esta metodología. Trata de evitar incluir interacciones para todos los pares de variables posibles. Imprime en consola **las primeras 5 observaciones** de la base de datos con los nuevos términos."
   ]
  },
  {
   "cell_type": "code",
   "execution_count": 5,
   "metadata": {},
   "outputs": [
    {
     "data": {
      "text/html": [
       "<div>\n",
       "<style scoped>\n",
       "    .dataframe tbody tr th:only-of-type {\n",
       "        vertical-align: middle;\n",
       "    }\n",
       "\n",
       "    .dataframe tbody tr th {\n",
       "        vertical-align: top;\n",
       "    }\n",
       "\n",
       "    .dataframe thead th {\n",
       "        text-align: right;\n",
       "    }\n",
       "</style>\n",
       "<table border=\"1\" class=\"dataframe\">\n",
       "  <thead>\n",
       "    <tr style=\"text-align: right;\">\n",
       "      <th></th>\n",
       "      <th>Sexo_F</th>\n",
       "      <th>Edad</th>\n",
       "      <th>Reprobadas</th>\n",
       "      <th>G1</th>\n",
       "      <th>G2</th>\n",
       "      <th>G3</th>\n",
       "    </tr>\n",
       "  </thead>\n",
       "  <tbody>\n",
       "    <tr>\n",
       "      <th>0</th>\n",
       "      <td>1</td>\n",
       "      <td>18</td>\n",
       "      <td>0</td>\n",
       "      <td>5</td>\n",
       "      <td>6</td>\n",
       "      <td>6</td>\n",
       "    </tr>\n",
       "    <tr>\n",
       "      <th>1</th>\n",
       "      <td>1</td>\n",
       "      <td>17</td>\n",
       "      <td>0</td>\n",
       "      <td>5</td>\n",
       "      <td>5</td>\n",
       "      <td>6</td>\n",
       "    </tr>\n",
       "    <tr>\n",
       "      <th>2</th>\n",
       "      <td>1</td>\n",
       "      <td>15</td>\n",
       "      <td>3</td>\n",
       "      <td>7</td>\n",
       "      <td>8</td>\n",
       "      <td>10</td>\n",
       "    </tr>\n",
       "    <tr>\n",
       "      <th>3</th>\n",
       "      <td>1</td>\n",
       "      <td>15</td>\n",
       "      <td>0</td>\n",
       "      <td>15</td>\n",
       "      <td>14</td>\n",
       "      <td>15</td>\n",
       "    </tr>\n",
       "    <tr>\n",
       "      <th>4</th>\n",
       "      <td>1</td>\n",
       "      <td>16</td>\n",
       "      <td>0</td>\n",
       "      <td>6</td>\n",
       "      <td>10</td>\n",
       "      <td>10</td>\n",
       "    </tr>\n",
       "  </tbody>\n",
       "</table>\n",
       "</div>"
      ],
      "text/plain": [
       "   Sexo_F  Edad  Reprobadas  G1  G2  G3\n",
       "0       1    18           0   5   6   6\n",
       "1       1    17           0   5   5   6\n",
       "2       1    15           3   7   8  10\n",
       "3       1    15           0  15  14  15\n",
       "4       1    16           0   6  10  10"
      ]
     },
     "execution_count": 5,
     "metadata": {},
     "output_type": "execute_result"
    }
   ],
   "source": [
    "limpio = datos[correlaciones['G3'].abs()[correlaciones['G3'].abs()>0.1].index.tolist()]\n",
    "limpio.head(5)"
   ]
  },
  {
   "cell_type": "markdown",
   "metadata": {},
   "source": [
    "Como se menciono antes el negativo no implica que no estén correlación, por lo que se debe tomar el valor absoluto mediante `abs()` y conservar las variables que tengan un numero mayor a **0.1**, esto fue un valor que escogí yo para poder considerar un buen numero de variables y no solamente enfocarme en 2 variables de las que hay.\n",
    "\n",
    "6. Entrena un modelo de regresión lineal múltiple en un subconjunto de datos que corresponda al **80%** de los datos totales e imprime en consola un resumen de los resultados obtenidos. Posteriormente, usando dicho modelo, predice la calificación final del **20%** de las observaciones que no se usaron para entrenar. Genera una **gráfica de dispersión** de las calificaciones finales reales contra las calificaciones finales estimadas por el modelo en los datos de prueba. Agrega una línea de texto donde des una conclusión sobre los resultados del modelo, con base en la información que se muestra en la gráfica."
   ]
  },
  {
   "cell_type": "code",
   "execution_count": 6,
   "metadata": {},
   "outputs": [
    {
     "data": {
      "image/png": "[encoded data removed]",
      "text/plain": [
       "<Figure size 640x480 with 1 Axes>"
      ]
     },
     "metadata": {},
     "output_type": "display_data"
    }
   ],
   "source": [
    "caliz=limpio.sample(frac=0.8)\n",
    "prueba=limpio.drop(caliz.index)\n",
    "XC=caliz.drop('G3', axis=1)\n",
    "YC=caliz.G3\n",
    "XP=prueba.drop('G3', axis=1)\n",
    "YP=prueba.G3\n",
    "modelo=sm.OLS(YC, sm.add_constant(XC))\n",
    "resultados=modelo.fit()\n",
    "estimacion=resultados.predict(sm.add_constant(XP))\n",
    "plt.scatter(YP, estimacion)\n",
    "plt.title('Real vs. Predicción')\n",
    "plt.xlabel(\"Valores reales\")\n",
    "plt.ylabel(\"Valores predecidos\")\n",
    "plt.axis('equal')\n",
    "plt.show()"
   ]
  },
  {
   "cell_type": "markdown",
   "metadata": {},
   "source": [
    "Como se puede ver en la gráfica tuvimos una buena aproximación, no obstante hubo ciertos casos donde no hubo una buena aproximación.\n",
    "\n",
    "**Firma de Honor:** Doy mi palabra que he realizado esta actividad con integridad académica"
   ]
  }
 ],
 "metadata": {
  "kernelspec": {
   "display_name": ".venv",
   "language": "python",
   "name": "python3"
  },
  "language_info": {
   "codemirror_mode": {
    "name": "ipython",
    "version": 3
   },
   "file_extension": ".py",
   "mimetype": "text/x-python",
   "name": "python",
   "nbconvert_exporter": "python",
   "pygments_lexer": "ipython3",
   "version": "3.13.0"
  }
 },
 "nbformat": 4,
 "nbformat_minor": 2
}
