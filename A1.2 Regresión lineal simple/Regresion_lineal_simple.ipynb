{
 "cells": [
  {
   "cell_type": "markdown",
   "metadata": {},
   "source": [
    "# A1.2 Regresión lineal simple\n",
    "La felicidad no es algo fácilmente mensurable, aun así, la publicación *World Happiness Report* (WHR) ha tratado desde el 2012 de medir los niveles de felicidad de la gran mayoría de los países del mundo. Los resultados que obtienen año con año se publican de forma abierta, así como los datos que lograron capturar.  \n",
    "La variable de mayor interés para este ejercicio es el nivel general de felicidad por país, evaluado en una escala del 0 al 10. Una de las variables que en dicho reporte han expuesto como relevante para determinar la felicidad de una nación es su producto interno bruto, o *gross domestic product* (GDP). Los datos de GDP por país se pueden descargar desde el sitio de *The World Bank*, una institución financiera internacional.  \n",
    "En este caso, te presento un archivo de nombre `Felicidad_y_GDP.csv` (que podrás encontrar en la misma página de la plataforma donde descargaste esta plantilla), donde podrás encontrar el nivel de felicidad del último reporte del WHR (2022) y el GDP (2020) de los países para los que se cuenta con información. Los datos de niveles de felicidad se descargaron directamente del sitio de internet del __[WHR](https://worldhappiness.report/ed/2022/#appendices-and-data)__, y los datos de GDP se descargaron del sitio de internet de __[The World Bank](https://data.worldbank.org/indicator/NY.GDP.MKTP.CD)__.\n",
    "La base de datos cuenta con la siguiente información: \n",
    "* `Pais`. Se describe el nombre del país. \n",
    "* `Felicidad`. Un número entre 0 y 10 que describe el nivel de felicidad. \n",
    "* `GDP`. Un número que describe el producto interno bruto.\n",
    "Es momento de poner en práctica los conocimientos que hemos adquirido para encontrar un modelo de regresión lineal simple en el que relaciones la felicidad y el GDP de un país. Antes de continuar, pregúntate: ¿qué dirección crees que tendrá la asociación (a mayor GDP, mayor o menor felicidad)? \n",
    "Desarrolla los siguientes puntos en una *Jupyter Notebook*, tratando, dentro de lo posible, que cada punto se trabaje en una celda distinta. Los comentarios en el código siempre son bienvenidos, de preferencia, aprovecha el *markdown* para generar cuadros de descripción que ayuden al lector a comprender el trabajo realizado. \n",
    "1. Importa los datos del archivo `Felicidad_y_GDP.csv` a tu ambiente de trabajo. Por curiosidad, revisemos cuáles son los países más felices, así como los que tienen mayor GDP. Imprime en consola un resumen de 10 filas de la base de datos, previamente ordenada de mayor a menor felicidad. Te recomiendo que hagas uso de la función `sort_values()`, especificando como primer parámetro el nombre de la columna de interés, y el parámetro **ascending** con valor **False**. Repite el proceso, pero ahora ordenando la base de datos de mayor a menor GDP."
   ]
  },
  {
   "cell_type": "code",
   "execution_count": null,
   "metadata": {},
   "outputs": [],
   "source": []
  },
  {
   "cell_type": "markdown",
   "metadata": {},
   "source": [
    "2. Grafica las observaciones, definiendo el valor de **y** como el nivel de felicidad y el valor de **x** como el logaritmo base 10 del GDP. Típicamente, cuando trabajamos con números tan grandes como lo es el GDP, es mucho más común encontrar asociaciones con el logaritmo base 10 de la variable, que con la variable misma. Esto no es un problema, siempre y cuando nuestra conclusión incluya este recordatorio. Es decir, si descubrimos que sí existe una asociación, diríamos que: **encontramos una asociación estadísticamente significativa entre los niveles de felicidad y el logaritmo base 10 del GDP**. La librería `numpy` tiene la función `log10()`, puedes usarla para transformar el GDP."
   ]
  },
  {
   "cell_type": "code",
   "execution_count": null,
   "metadata": {},
   "outputs": [],
   "source": []
  },
  {
   "cell_type": "markdown",
   "metadata": {},
   "source": [
    "3. Calcula los valores óptimos de los dos coeficientes del modelo de regresión lineal simple. Realiza este proceso *a mano*, sin apoyarte con funciones preestablecidas de librerías de análisis de datos. Al finalizar, imprime en consola ambos valores. Siempre es bueno especificar qué es el valor que estamos imprimiendo, por lo que te recomiendo usar una sintaxis similar a: `print(“B1 =”, B1)`."
   ]
  },
  {
   "cell_type": "code",
   "execution_count": null,
   "metadata": {},
   "outputs": [],
   "source": []
  },
  {
   "cell_type": "markdown",
   "metadata": {},
   "source": [
    "4. Realiza una nueva gráfica en la que se muestren tanto las observaciones, como la línea que representa el modelo de regresión lineal simple. Te recomiendo usar un valor de transparencia de `0.75`, tanto para las observaciones como para la línea."
   ]
  },
  {
   "cell_type": "code",
   "execution_count": null,
   "metadata": {},
   "outputs": [],
   "source": []
  },
  {
   "cell_type": "markdown",
   "metadata": {},
   "source": [
    "5. Calcula el RSS del modelo e imprímelo en la consola."
   ]
  },
  {
   "cell_type": "code",
   "execution_count": null,
   "metadata": {},
   "outputs": [],
   "source": []
  },
  {
   "cell_type": "markdown",
   "metadata": {},
   "source": [
    "6. Calcula el error estándar e intervalo de confianza de 𝛽̂1, e imprime dichos valores en la consola. Siempre es bueno especificar qué es el valor que estamos imprimiendo, por lo que te recomiendo usar una sintaxis similar a: `print(“SE =”, SE)`. Asimismo, determina si la asociación entre la felicidad y el GDP es significativa en esta población, imprimiendo en consola un mensaje que claramente explique el por qué de la afirmación, evidenciado por alguna métrica calculada."
   ]
  },
  {
   "cell_type": "code",
   "execution_count": null,
   "metadata": {},
   "outputs": [],
   "source": []
  },
  {
   "cell_type": "markdown",
   "metadata": {},
   "source": [
    "7. Calcula el *residual standard error* y la 𝑅$^2$ del modelo, e imprime dichos valores en la consola. Para el cálculo de 𝑅$^2$, te recomiendo primero calcular el *total sum of squares*, o TSS. Para el cálculo del mismo, pon mucha atención al orden de los paréntesis, pues no es lo mismo sumar el cuadrado de múltiples valores, que sumar múltiples valores y elevar el resultado al cuadrado. Adicionalmente, agrega un comentario, imprimiéndolo en consola, sobre tu opinión del valor de 𝑅$^2$ obtenido con el modelo. "
   ]
  },
  {
   "cell_type": "code",
   "execution_count": null,
   "metadata": {},
   "outputs": [],
   "source": []
  },
  {
   "cell_type": "markdown",
   "metadata": {},
   "source": [
    "8. Finalmente, usa la función `OLS()` de la librería statsmodels.api para verificar que los resultados de todos los puntos anteriores son los esperados. Si el resumen de los resultados te entrega un ***p-value*** **= 0.000**, puedes observar el resultado con muchas más cifras significativas usando la función `pvalues` de la misma librería. **Por ejemplo:** si los resultados de ajustar el modelo los almacenaste en una variable de nombre `var`, puedes usar la siguiente sintaxis: `var.pvalues`. Por *default*, el RSE no se muestra en el resumen, para revisarlo utiliza la línea de código `print(var.scale**.5)`, de nuevo asumiendo que almacenaste el resultado en una variable de nombre `var`."
   ]
  },
  {
   "cell_type": "code",
   "execution_count": null,
   "metadata": {},
   "outputs": [],
   "source": []
  },
  {
   "cell_type": "markdown",
   "metadata": {},
   "source": [
    "**Firma de Honor:** Doy mi palabra que he realizado esta actividad con integridad académica"
   ]
  }
 ],
 "metadata": {
  "kernelspec": {
   "display_name": ".venv",
   "language": "python",
   "name": "python3"
  },
  "language_info": {
   "name": "python",
   "version": "3.13.0"
  }
 },
 "nbformat": 4,
 "nbformat_minor": 2
}
