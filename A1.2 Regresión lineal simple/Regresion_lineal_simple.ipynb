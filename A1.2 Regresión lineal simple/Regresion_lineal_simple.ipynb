{
 "cells": [
  {
   "cell_type": "markdown",
   "metadata": {},
   "source": [
    "# A1.2 Regresión lineal simple\n",
    "La felicidad no es algo fácilmente mensurable, aun así, la publicación *World Happiness Report* (WHR) ha tratado desde el 2012 de medir los niveles de felicidad de la gran mayoría de los países del mundo. Los resultados que obtienen año con año se publican de forma abierta, así como los datos que lograron capturar.  \n",
    "La variable de mayor interés para este ejercicio es el nivel general de felicidad por país, evaluado en una escala del 0 al 10. Una de las variables que en dicho reporte han expuesto como relevante para determinar la felicidad de una nación es su producto interno bruto, o *gross domestic product* (GDP). Los datos de GDP por país se pueden descargar desde el sitio de *The World Bank*, una institución financiera internacional.  \n",
    "En este caso, te presento un archivo de nombre `Felicidad_y_GDP.csv` (que podrás encontrar en la misma página de la plataforma donde descargaste esta plantilla), donde podrás encontrar el nivel de felicidad del último reporte del WHR (2022) y el GDP (2020) de los países para los que se cuenta con información. Los datos de niveles de felicidad se descargaron directamente del sitio de internet del __[WHR](https://worldhappiness.report/ed/2022/#appendices-and-data)__, y los datos de GDP se descargaron del sitio de internet de __[The World Bank](https://data.worldbank.org/indicator/NY.GDP.MKTP.CD)__.\n",
    "La base de datos cuenta con la siguiente información: \n",
    "* `Pais`. Se describe el nombre del país. \n",
    "* `Felicidad`. Un número entre 0 y 10 que describe el nivel de felicidad. \n",
    "* `GDP`. Un número que describe el producto interno bruto.\n",
    "Es momento de poner en práctica los conocimientos que hemos adquirido para encontrar un modelo de regresión lineal simple en el que relaciones la felicidad y el GDP de un país. Antes de continuar, pregúntate: ¿qué dirección crees que tendrá la asociación (a mayor GDP, mayor o menor felicidad)? \n",
    "Desarrolla los siguientes puntos en una *Jupyter Notebook*, tratando, dentro de lo posible, que cada punto se trabaje en una celda distinta. Los comentarios en el código siempre son bienvenidos, de preferencia, aprovecha el *markdown* para generar cuadros de descripción que ayuden al lector a comprender el trabajo realizado. \n",
    "1. Importa los datos del archivo `Felicidad_y_GDP.csv` a tu ambiente de trabajo. Por curiosidad, revisemos cuáles son los países más felices, así como los que tienen mayor GDP. Imprime en consola un resumen de 10 filas de la base de datos, previamente ordenada de mayor a menor felicidad. Te recomiendo que hagas uso de la función `sort_values()`, especificando como primer parámetro el nombre de la columna de interés, y el parámetro `ascending` con valor `False`. Repite el proceso, pero ahora ordenando la base de datos de mayor a menor GDP."
   ]
  },
  {
   "cell_type": "code",
   "execution_count": 1,
   "metadata": {},
   "outputs": [
    {
     "data": {
      "text/html": [
       "<div>\n",
       "<style scoped>\n",
       "    .dataframe tbody tr th:only-of-type {\n",
       "        vertical-align: middle;\n",
       "    }\n",
       "\n",
       "    .dataframe tbody tr th {\n",
       "        vertical-align: top;\n",
       "    }\n",
       "\n",
       "    .dataframe thead th {\n",
       "        text-align: right;\n",
       "    }\n",
       "</style>\n",
       "<table border=\"1\" class=\"dataframe\">\n",
       "  <thead>\n",
       "    <tr style=\"text-align: right;\">\n",
       "      <th></th>\n",
       "      <th>Pais</th>\n",
       "      <th>Felicidad</th>\n",
       "      <th>GDP</th>\n",
       "    </tr>\n",
       "  </thead>\n",
       "  <tbody>\n",
       "    <tr>\n",
       "      <th>4</th>\n",
       "      <td>Netherlands</td>\n",
       "      <td>7.4149</td>\n",
       "      <td>9.138650e+11</td>\n",
       "    </tr>\n",
       "    <tr>\n",
       "      <th>3</th>\n",
       "      <td>Switzerland</td>\n",
       "      <td>7.5116</td>\n",
       "      <td>7.522480e+11</td>\n",
       "    </tr>\n",
       "    <tr>\n",
       "      <th>6</th>\n",
       "      <td>Sweden</td>\n",
       "      <td>7.3843</td>\n",
       "      <td>5.414870e+11</td>\n",
       "    </tr>\n",
       "    <tr>\n",
       "      <th>8</th>\n",
       "      <td>Israel</td>\n",
       "      <td>7.3638</td>\n",
       "      <td>4.071010e+11</td>\n",
       "    </tr>\n",
       "    <tr>\n",
       "      <th>7</th>\n",
       "      <td>Norway</td>\n",
       "      <td>7.3651</td>\n",
       "      <td>3.621980e+11</td>\n",
       "    </tr>\n",
       "    <tr>\n",
       "      <th>1</th>\n",
       "      <td>Denmark</td>\n",
       "      <td>7.6362</td>\n",
       "      <td>3.560850e+11</td>\n",
       "    </tr>\n",
       "    <tr>\n",
       "      <th>0</th>\n",
       "      <td>Finland</td>\n",
       "      <td>7.8210</td>\n",
       "      <td>2.718370e+11</td>\n",
       "    </tr>\n",
       "    <tr>\n",
       "      <th>9</th>\n",
       "      <td>New Zealand</td>\n",
       "      <td>7.1998</td>\n",
       "      <td>2.117350e+11</td>\n",
       "    </tr>\n",
       "    <tr>\n",
       "      <th>5</th>\n",
       "      <td>Luxembourg</td>\n",
       "      <td>7.4040</td>\n",
       "      <td>7.335313e+10</td>\n",
       "    </tr>\n",
       "    <tr>\n",
       "      <th>2</th>\n",
       "      <td>Iceland</td>\n",
       "      <td>7.5575</td>\n",
       "      <td>2.171808e+10</td>\n",
       "    </tr>\n",
       "  </tbody>\n",
       "</table>\n",
       "</div>"
      ],
      "text/plain": [
       "          Pais  Felicidad           GDP\n",
       "4  Netherlands     7.4149  9.138650e+11\n",
       "3  Switzerland     7.5116  7.522480e+11\n",
       "6       Sweden     7.3843  5.414870e+11\n",
       "8       Israel     7.3638  4.071010e+11\n",
       "7       Norway     7.3651  3.621980e+11\n",
       "1      Denmark     7.6362  3.560850e+11\n",
       "0      Finland     7.8210  2.718370e+11\n",
       "9  New Zealand     7.1998  2.117350e+11\n",
       "5   Luxembourg     7.4040  7.335313e+10\n",
       "2      Iceland     7.5575  2.171808e+10"
      ]
     },
     "execution_count": 1,
     "metadata": {},
     "output_type": "execute_result"
    }
   ],
   "source": [
    "import pandas as ps\n",
    "import numpy as np\n",
    "import matplotlib.pyplot as plt\n",
    "import statsmodels.api as sm\n",
    "from math import sqrt\n",
    "datos=ps.read_csv('Felicidad_y_GDP.csv')\n",
    "(datos.head(10)).sort_values(by=['GDP'], ascending=False)"
   ]
  },
  {
   "cell_type": "markdown",
   "metadata": {},
   "source": [
    "2. Grafica las observaciones, definiendo el valor de **y** como el nivel de felicidad y el valor de **x** como el logaritmo base 10 del GDP. Típicamente, cuando trabajamos con números tan grandes como lo es el GDP, es mucho más común encontrar asociaciones con el logaritmo base 10 de la variable, que con la variable misma. Esto no es un problema, siempre y cuando nuestra conclusión incluya este recordatorio. Es decir, si descubrimos que sí existe una asociación, diríamos que: **encontramos una asociación estadísticamente significativa entre los niveles de felicidad y el logaritmo base 10 del GDP**. La librería `numpy` tiene la función `log10()`, puedes usarla para transformar el GDP."
   ]
  },
  {
   "cell_type": "code",
   "execution_count": 2,
   "metadata": {},
   "outputs": [
    {
     "data": {
      "image/png": "[encoded data removed]",
      "text/plain": [
       "<Figure size 640x480 with 1 Axes>"
      ]
     },
     "metadata": {},
     "output_type": "display_data"
    }
   ],
   "source": [
    "yDatos=datos.Felicidad\n",
    "xDatos=np.log10(datos.GDP)\n",
    "yMean=yDatos.mean()\n",
    "xMean=xDatos.mean()\n",
    "longitud=len(datos.Felicidad)\n",
    "plt.scatter(xDatos, yDatos)\n",
    "plt.title('GDP vs. Nivel de felicidad')\n",
    "plt.xlabel(\"log_10(GDP)\")\n",
    "plt.ylabel(\"Nivel de felicidad\")\n",
    "plt.show()\n",
    "%matplotlib inline"
   ]
  },
  {
   "cell_type": "markdown",
   "metadata": {},
   "source": [
    "Se decidió usar `log10()` debido a que se esta trabajando con números grandes por lo mismo es más eficiente trabajar con números más pequeños, la visualización de la gráfica nos permite ver que podemos obtener la tendencia de los datos.\n",
    "\n",
    "3. Calcula los valores óptimos de los dos coeficientes del modelo de regresión lineal simple. Realiza este proceso *a mano*, sin apoyarte con funciones preestablecidas de librerías de análisis de datos. Al finalizar, imprime en consola ambos valores. Siempre es bueno especificar qué es el valor que estamos imprimiendo, por lo que te recomiendo usar una sintaxis similar a: `print(“B1 =”, B1)`."
   ]
  },
  {
   "cell_type": "code",
   "execution_count": 3,
   "metadata": {},
   "outputs": [
    {
     "name": "stdout",
     "output_type": "stream",
     "text": [
      "B1 = 0.6281 \tB0 = -1.3024\n"
     ]
    }
   ],
   "source": [
    "arriba=0\n",
    "abajo=0\n",
    "suma=0\n",
    "for i in range(longitud):\n",
    "    arriba=arriba+((xDatos[i]-xMean)*(yDatos[i]-yMean))\n",
    "    abajo=abajo+((xDatos[i]-xMean)**2)\n",
    "Bi=arriba/abajo\n",
    "Bo=yMean-(Bi*(xMean))\n",
    "print(\"B1 =\", round(Bi, 4),\"\\tB0 =\", round(Bo, 4))"
   ]
  },
  {
   "cell_type": "markdown",
   "metadata": {},
   "source": [
    "`B1` representa `m` de una función lineal **(y=mx+b)** mientras que `B0` representa `b`.\n",
    "\n",
    "4. Realiza una nueva gráfica en la que se muestren tanto las observaciones, como la línea que representa el modelo de regresión lineal simple. Te recomiendo usar un valor de transparencia de `0.75`, tanto para las observaciones como para la línea."
   ]
  },
  {
   "cell_type": "code",
   "execution_count": 4,
   "metadata": {},
   "outputs": [
    {
     "data": {
      "image/png": "[encoded data removed]",
      "text/plain": [
       "<Figure size 640x480 with 1 Axes>"
      ]
     },
     "metadata": {},
     "output_type": "display_data"
    }
   ],
   "source": [
    "yEst= Bo+(Bi*xDatos)\n",
    "plt.scatter(xDatos, yDatos)\n",
    "plt.title('GDP vs. Nivel de felicidad + Tendencia')\n",
    "plt.plot(xDatos, yEst, c=\"r\", alpha=0.75)\n",
    "plt.xlabel(\"log_10(GDP)\")\n",
    "plt.ylabel(\"Nivel de felicidad\")\n",
    "plt.show()\n",
    "%matplotlib inline"
   ]
  },
  {
   "cell_type": "markdown",
   "metadata": {},
   "source": [
    "Como ya tenemos los valores de `B0` y `B1`, procedemos a gratificarla junto a nuestros datos, para ver que la tandencia de nuestros datos.\n",
    "\n",
    "5. Calcula el RSS del modelo e imprímelo en la consola."
   ]
  },
  {
   "cell_type": "code",
   "execution_count": 5,
   "metadata": {},
   "outputs": [
    {
     "name": "stdout",
     "output_type": "stream",
     "text": [
      "RSS = 131.3738\n"
     ]
    }
   ],
   "source": [
    "rss=0\n",
    "for i in range(longitud):\n",
    "    rss=rss+((yDatos[i]-(Bo+(Bi*xDatos[i])))**2)\n",
    "    suma=suma+((xDatos[i]-xMean)**2)\n",
    "print(\"RSS =\", round(rss, 4))"
   ]
  },
  {
   "cell_type": "markdown",
   "metadata": {},
   "source": [
    "6. Calcula el error estándar e intervalo de confianza de 𝛽̂1, e imprime dichos valores en la consola. Siempre es bueno especificar qué es el valor que estamos imprimiendo, por lo que te recomiendo usar una sintaxis similar a: `print(“SE =”, SE)`. Asimismo, determina si la asociación entre la felicidad y el GDP es significativa en esta población, imprimiendo en consola un mensaje que claramente explique el por qué de la afirmación, evidenciado por alguna métrica calculada."
   ]
  },
  {
   "cell_type": "code",
   "execution_count": 6,
   "metadata": {},
   "outputs": [
    {
     "name": "stdout",
     "output_type": "stream",
     "text": [
      "SE = 0.0998 \n",
      "Intervalo de Confianza de 𝛽̂1:\t 0.6281  +/-  0.0948\n"
     ]
    }
   ],
   "source": [
    "SEBi=sqrt(rss/(suma*(longitud-2)))\n",
    "print(\"SE =\", round(SEBi, 4), \"\\nIntervalo de Confianza de 𝛽̂1:\\t\", round(Bi, 4), \" +/- \", round((0.95*SEBi), 4))"
   ]
  },
  {
   "cell_type": "markdown",
   "metadata": {},
   "source": [
    "Para el intervalo de confianza consideraremos `p = 0.95`, de tal forma que podremos saber que tan buena es nuestra predicción.\n",
    "\n",
    "7. Calcula el *residual standard error* y la 𝑅$^2$ del modelo, e imprime dichos valores en la consola. Para el cálculo de 𝑅$^2$, te recomiendo primero calcular el *total sum of squares*, o TSS. Para el cálculo del mismo, pon mucha atención al orden de los paréntesis, pues no es lo mismo sumar el cuadrado de múltiples valores, que sumar múltiples valores y elevar el resultado al cuadrado. Adicionalmente, agrega un comentario, imprimiéndolo en consola, sobre tu opinión del valor de 𝑅$^2$ obtenido con el modelo. "
   ]
  },
  {
   "cell_type": "code",
   "execution_count": 7,
   "metadata": {},
   "outputs": [
    {
     "name": "stdout",
     "output_type": "stream",
     "text": [
      "R^2 = 0.2217\n"
     ]
    }
   ],
   "source": [
    "t=Bi/SEBi\n",
    "rse=sqrt(rss/(longitud-2))\n",
    "tss=0\n",
    "for i in range(longitud):\n",
    "    tss=tss+((yDatos[i]-yMean)**2)\n",
    "Rdos=1-(rss/tss)\n",
    "print(\"R^2 =\", round(Rdos, 4))\n",
    "#   Esto me permite ver que no hay tanta correlación entre los niveles de felicidad y el GDP."
   ]
  },
  {
   "cell_type": "markdown",
   "metadata": {},
   "source": [
    "𝑅$^2$ nos permite que tanta correlación tenemos en nuestra predicción, es decir que tan bien se ajusta a nuestros datos, siendo **1** un gran correlación de los datos y un **0** implica que nuestros datos no tienen correlación.\n",
    "\n",
    "8. Finalmente, usa la función `OLS()` de la librería statsmodels.api para verificar que los resultados de todos los puntos anteriores son los esperados. Si el resumen de los resultados te entrega un ***p-value*** **= 0.000**, puedes observar el resultado con muchas más cifras significativas usando la función `pvalues` de la misma librería. **Por ejemplo:** si los resultados de ajustar el modelo los almacenaste en una variable de nombre `var`, puedes usar la siguiente sintaxis: `var.pvalues`. Por *default*, el RSE no se muestra en el resumen, para revisarlo utiliza la línea de código `print(var.scale**.5)`, de nuevo asumiendo que almacenaste el resultado en una variable de nombre `var`."
   ]
  },
  {
   "cell_type": "code",
   "execution_count": 8,
   "metadata": {},
   "outputs": [
    {
     "name": "stdout",
     "output_type": "stream",
     "text": [
      "p-value = 0.9722 \tRSE = 0.9722\n",
      "\n"
     ]
    }
   ],
   "source": [
    "xData= sm.add_constant(xDatos)\n",
    "modelo=sm.OLS(yDatos, xData)\n",
    "var=modelo.fit()\n",
    "print(\"p-value =\",round(sqrt(var.scale), 4), \"\\tRSE =\",round(rse, 4))\n",
    "print()"
   ]
  },
  {
   "cell_type": "markdown",
   "metadata": {},
   "source": [
    "Si no usáramos las funciones de las librerías tendríamos que escribir más lineas de código lo que implica que es más fácil cometer errores, por ende llegaríamos a cometer un error al analizar nuestros datos.\n",
    "\n",
    "**Firma de Honor:** Doy mi palabra que he realizado esta actividad con integridad académica"
   ]
  }
 ],
 "metadata": {
  "kernelspec": {
   "display_name": ".venv",
   "language": "python",
   "name": "python3"
  },
  "language_info": {
   "codemirror_mode": {
    "name": "ipython",
    "version": 3
   },
   "file_extension": ".py",
   "mimetype": "text/x-python",
   "name": "python",
   "nbconvert_exporter": "python",
   "pygments_lexer": "ipython3",
   "version": "3.13.0"
  }
 },
 "nbformat": 4,
 "nbformat_minor": 2
}
