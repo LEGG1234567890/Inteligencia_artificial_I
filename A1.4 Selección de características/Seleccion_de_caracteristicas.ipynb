{
 "cells": [
  {
   "cell_type": "markdown",
   "metadata": {},
   "source": [
    "# A1.4 Selección de características\n",
    "## Luis Enrique Garcia Gallegos\n",
    "### **Matricula**: 649247\n",
    "En la lectura interactiva de este módulo trabajamos con la base de datos de calidad de vino. Ahí, programamos **a mano**, métodos de selección de características. Pero, al final, te comenté que existen otras funciones que te permiten realizar este proceso de forma más sencilla y veloz. En esta actividad deberás generar un modelo de regresión lineal múltiple que contenga solamente las variables seleccionadas por un proceso de selección hacia adelante y eliminación hacia atrás.\n",
    "Utilizaremos el archivo de nombre `Vino_Tinto.csv`, donde podrás encontrar información para *1,599* observaciones distintas, con *11* mediciones para cada una de ellas, así como con una variable de salida, la calidad asignada a dicho vino. Los datos se descargaron del __[UCI Machine Learning Repository](https://archive.ics.uci.edu/dataset/186/wine+quality)__, y originalmente se reportaron en una publicación científica para la revista __[Decision Support Systems](https://www.sciencedirect.com/science/article/pii/S0167923609001377?via%3Dihub)__.\n",
    "La base de datos cuenta con la siguiente información: \n",
    "* `acidezFija`.  La acidez fija del vino, medida en **gramos de ácido tartárico por decímetro cúbico**. \n",
    "* `acidezVolatil`. La acidez volátil del vino, medida en **gramos de ácido acético por decímetro cúbico**.\n",
    "* `acidoCitrico`.  **Gramos de tácito cítrico por decímetro cúbico**.\n",
    "* `azucarResidual`. **Gramos de azúcar por decímetro cúbico**.\n",
    "* `cloruros`.  **Gramos de cloruro de sodio por decímetro cúbico**. \n",
    "* `dioxidoAzufreLibre`. **Miligramos de dióxido de azufre libre por decímetro cúbico**.\n",
    "* `dioxidoAzufreTotal`. **Miligramos de dióxido de azufre total por decímetro cúbico**.\n",
    "* `densidad`. Medida en **gramos por centímetro cúbico**. \n",
    "* `pH`. Valor del vino en la escala de **pH**.\n",
    "* `sulfatos`. **Gramos de sulfato de potasio por decímetro cúbico**.\n",
    "* `alcohol`. **Volúmen percentil** de alcohol en el vino.\n",
    "* `calidad`. Mediana de la calidad otorgada por al menos tres catadores, en escala del **0 (muy malo) al 10 (excelente)**.\n",
    "\n",
    "Desarrolla los siguientes puntos en una *Jupyter Notebook*, tratando, dentro de lo posible, que cada punto se trabaje en una celda distinta. Los comentarios en el código siempre son bienvenidos, de preferencia, aprovecha el *markdown* para generar cuadros de descripción que ayuden al lector a comprender el trabajo realizado. \n",
    "1. Importa los datos del archivo `Vino_Tinto.csv` a tu ambiente de trabajo. Este archivo lo encontrarás en la misma página donde descargaste esta plantilla. Revisa las dimensiones del *data frame* e imprime en consola tanto dichas dimensiones como las primeras 5 filas de datos."
   ]
  },
  {
   "cell_type": "code",
   "execution_count": 1,
   "metadata": {},
   "outputs": [
    {
     "data": {
      "text/html": [
       "<div>\n",
       "<style scoped>\n",
       "    .dataframe tbody tr th:only-of-type {\n",
       "        vertical-align: middle;\n",
       "    }\n",
       "\n",
       "    .dataframe tbody tr th {\n",
       "        vertical-align: top;\n",
       "    }\n",
       "\n",
       "    .dataframe thead th {\n",
       "        text-align: right;\n",
       "    }\n",
       "</style>\n",
       "<table border=\"1\" class=\"dataframe\">\n",
       "  <thead>\n",
       "    <tr style=\"text-align: right;\">\n",
       "      <th></th>\n",
       "      <th>acidezFija</th>\n",
       "      <th>acidezVolatil</th>\n",
       "      <th>acidoCitrico</th>\n",
       "      <th>azucarResidual</th>\n",
       "      <th>cloruros</th>\n",
       "      <th>dioxidoAzufreLibre</th>\n",
       "      <th>dioxidoAzufreTotal</th>\n",
       "      <th>densidad</th>\n",
       "      <th>pH</th>\n",
       "      <th>sulfatos</th>\n",
       "      <th>alcohol</th>\n",
       "      <th>calidad</th>\n",
       "    </tr>\n",
       "  </thead>\n",
       "  <tbody>\n",
       "    <tr>\n",
       "      <th>0</th>\n",
       "      <td>7.4</td>\n",
       "      <td>0.70</td>\n",
       "      <td>0.00</td>\n",
       "      <td>1.9</td>\n",
       "      <td>0.076</td>\n",
       "      <td>11.0</td>\n",
       "      <td>34.0</td>\n",
       "      <td>0.9978</td>\n",
       "      <td>3.51</td>\n",
       "      <td>0.56</td>\n",
       "      <td>9.4</td>\n",
       "      <td>5</td>\n",
       "    </tr>\n",
       "    <tr>\n",
       "      <th>1</th>\n",
       "      <td>7.8</td>\n",
       "      <td>0.88</td>\n",
       "      <td>0.00</td>\n",
       "      <td>2.6</td>\n",
       "      <td>0.098</td>\n",
       "      <td>25.0</td>\n",
       "      <td>67.0</td>\n",
       "      <td>0.9968</td>\n",
       "      <td>3.20</td>\n",
       "      <td>0.68</td>\n",
       "      <td>9.8</td>\n",
       "      <td>5</td>\n",
       "    </tr>\n",
       "    <tr>\n",
       "      <th>2</th>\n",
       "      <td>7.8</td>\n",
       "      <td>0.76</td>\n",
       "      <td>0.04</td>\n",
       "      <td>2.3</td>\n",
       "      <td>0.092</td>\n",
       "      <td>15.0</td>\n",
       "      <td>54.0</td>\n",
       "      <td>0.9970</td>\n",
       "      <td>3.26</td>\n",
       "      <td>0.65</td>\n",
       "      <td>9.8</td>\n",
       "      <td>5</td>\n",
       "    </tr>\n",
       "    <tr>\n",
       "      <th>3</th>\n",
       "      <td>11.2</td>\n",
       "      <td>0.28</td>\n",
       "      <td>0.56</td>\n",
       "      <td>1.9</td>\n",
       "      <td>0.075</td>\n",
       "      <td>17.0</td>\n",
       "      <td>60.0</td>\n",
       "      <td>0.9980</td>\n",
       "      <td>3.16</td>\n",
       "      <td>0.58</td>\n",
       "      <td>9.8</td>\n",
       "      <td>6</td>\n",
       "    </tr>\n",
       "    <tr>\n",
       "      <th>4</th>\n",
       "      <td>7.4</td>\n",
       "      <td>0.70</td>\n",
       "      <td>0.00</td>\n",
       "      <td>1.9</td>\n",
       "      <td>0.076</td>\n",
       "      <td>11.0</td>\n",
       "      <td>34.0</td>\n",
       "      <td>0.9978</td>\n",
       "      <td>3.51</td>\n",
       "      <td>0.56</td>\n",
       "      <td>9.4</td>\n",
       "      <td>5</td>\n",
       "    </tr>\n",
       "  </tbody>\n",
       "</table>\n",
       "</div>"
      ],
      "text/plain": [
       "   acidezFija  acidezVolatil  acidoCitrico  ...  sulfatos  alcohol  calidad\n",
       "0         7.4           0.70          0.00  ...      0.56      9.4        5\n",
       "1         7.8           0.88          0.00  ...      0.68      9.8        5\n",
       "2         7.8           0.76          0.04  ...      0.65      9.8        5\n",
       "3        11.2           0.28          0.56  ...      0.58      9.8        6\n",
       "4         7.4           0.70          0.00  ...      0.56      9.4        5\n",
       "\n",
       "[5 rows x 12 columns]"
      ]
     },
     "execution_count": 1,
     "metadata": {},
     "output_type": "execute_result"
    }
   ],
   "source": [
    "import pandas as ps\n",
    "import numpy as np\n",
    "import matplotlib.pyplot as plt\n",
    "import statsmodels.api as sm\n",
    "import scipy.stats as st\n",
    "import mlxtend.feature_selection as mlx\n",
    "import random\n",
    "from math import sqrt\n",
    "from sklearn.model_selection import train_test_split\n",
    "from sklearn.linear_model import LinearRegression\n",
    "datos=ps.read_csv(\"Vino_Tinto.csv\")\n",
    "datos.head(5)"
   ]
  },
  {
   "cell_type": "markdown",
   "metadata": {},
   "source": [
    "2. Separa el *data frame* en datos de entrenamiento y datos de prueba con una proporción **80/20**. Es decir, el **80%** de los datos se usarán para entrenar el modelo y el resto para validar sus resultados. Asegúrate que la partición sea aleatoria, no es una buena práctica simplemente tomar las primeras observaciones para entrenar y las últimas para probar. Imprime en pantalla las dimensiones de ambos conjuntos de datos. Revisa y asegúrate que la cantidad de observaciones de ambos conjuntos de datos sumen a la cantidad de datos original."
   ]
  },
  {
   "cell_type": "code",
   "execution_count": 2,
   "metadata": {},
   "outputs": [
    {
     "name": "stdout",
     "output_type": "stream",
     "text": [
      "Datos de entrenamiento:  (1279, 12) \tDatos de prueba:  (320, 12) \n",
      "Total de datos:  1599\n"
     ]
    }
   ],
   "source": [
    "random.seed(0)\n",
    "caliz, prueba = train_test_split(datos, train_size=0.8)\n",
    "nC=caliz.shape[0]\n",
    "mC=caliz.shape[1]\n",
    "nP=prueba.shape[0]\n",
    "mP=prueba.shape[1]\n",
    "print(\"Datos de entrenamiento: \", caliz.shape, \"\\tDatos de prueba: \",prueba.shape, \"\\nTotal de datos: \", (nC+nP))"
   ]
  },
  {
   "cell_type": "markdown",
   "metadata": {},
   "source": [
    "Se utilizo una ***semilla*** para poder trabajar para un caso especifico porque de no ser asi obtendríamos valores distintos cada vez que se ejecutara el código.\n",
    "\n",
    "3. Genera la metodología de selección hacia adelante e imprime en consola los índices o los nombres de las características seleccionadas. Para realizar este proceso, te recomiendo que utilices la función `SequentialFeatureSelector` de la librería `mlxtend.feature_selection`, en este __[enlace encontrarás más información sobre la misma](https://rasbt.github.io/mlxtend/api_subpackages/mlxtend.feature_selection/#properties)__. \n",
    "Lo más probable es que cuando hayas descargado Anaconda, esta librería no se haya \n",
    "incluido en la distribución, por lo que deberás instalarla manualmente; al final de las \n",
    "instrucciones de la actividad te indico cómo hacerlo. Aquí te dejo una descripción de los \n",
    "parámetros que te recomiendo usar: \n",
    "* `estimator`. Un modelo de regresión lineal. Te recomiendo usar la función `LinearRegression` de la librería `sklearn.linear_model`. \n",
    "* `k_features`. Se puede seleccionar la cantidad de variables de salida que se desean, pero te recomiendo mejor usar un rango, y que el algoritmo determine el número adecuado. Por ejemplo, puedes definir el parámetro como (**2,8**), si te interesa que el método seleccione entre **2** y **8** variables.\n",
    "* `forward`. Determina si se hace selección hacia adelante (**True**) o hacia atrás (**False**); en este caso queremos hacer selección hacia adelante. \n",
    "* `scoring`. La métrica que se usará para determinar si un modelo es mejor que otro, te recomiendo definirla como *r2* para usar la $R^2$.\n",
    "* `cv`. Si se desea realizar validación cruzada, y cuántas instancias de la misma. Te recomiendo definir este parámetro como **10**. "
   ]
  },
  {
   "cell_type": "code",
   "execution_count": 3,
   "metadata": {},
   "outputs": [
    {
     "name": "stdout",
     "output_type": "stream",
     "text": [
      "Características seleccionadas:\n",
      "\t ('acidezVolatil', 'cloruros', 'dioxidoAzufreLibre', 'dioxidoAzufreTotal', 'pH', 'sulfatos', 'alcohol')\n"
     ]
    }
   ],
   "source": [
    "XC=caliz.drop('calidad', axis=1)\n",
    "YC=caliz.calidad\n",
    "sfs=mlx.SequentialFeatureSelector(LinearRegression(), k_features=(2, 8), forward=True, scoring='r2', cv=10)\n",
    "sfs.fit(XC,YC)\n",
    "variables=sfs.k_feature_names_\n",
    "print(\"Características seleccionadas:\\n\\t\", variables)"
   ]
  },
  {
   "cell_type": "markdown",
   "metadata": {},
   "source": [
    "Para poder decidir que variables son importantes para nuestro modelo usamos esta función la cual nos permitirá conocer que variables tienen mejor ajuste para nuestra perdición, para ello se empieza a hacer modelos a partir de una variable y de ahi se va agregando variables y se selecciona el que mejor ajuste tenga.\n",
    "\n",
    "4. Entrenar un modelo que solamente contenga las variables seleccionadas, predecir la respuesta en las observaciones de prueba y medir la capacidad de predicción del modelo usando la $R^2$, imprimiendo dicho valor en consola. Para el primer paso, simplemente necesitas usar la función `fit` en el modelo de regresión lineal creado previamente, asegurándote de no introducir toda la información de **X**, sino solo de las variables seleccionadas. Para realizar las predicciones, puedes usar la función `predict` en los datos de prueba, pero recuerda para dichos datos también seleccionar solo las variables de interés. Para el último paso, te recomiendo usar la función `r2_score` de `sklearn.metrics`."
   ]
  },
  {
   "cell_type": "code",
   "execution_count": 4,
   "metadata": {},
   "outputs": [
    {
     "name": "stdout",
     "output_type": "stream",
     "text": [
      "RSS de entrenamiento: 0.4173\tRSS de prueba: 138.0307\n",
      "R^2 de entrenamiento: 0.3625\tR^2 de prueba: 0.3407\n"
     ]
    }
   ],
   "source": [
    "xAjustadoC=XC\n",
    "xAjustadoP=prueba.drop('calidad', axis=1)\n",
    "for i in range(len(variables)):\n",
    "    xAjustadoC=xAjustadoC.drop(variables[i], axis=1)\n",
    "borrar=xAjustadoC.columns\n",
    "xAjustadoC=XC\n",
    "for i in range(len(borrar)):\n",
    "    xAjustadoC=xAjustadoC.drop(borrar[i], axis=1)\n",
    "    xAjustadoP=xAjustadoP.drop(borrar[i], axis=1)\n",
    "modeloC=sm.OLS(YC, sm.add_constant(xAjustadoC))\n",
    "resultadosC=modeloC.fit()\n",
    "resultadosP=resultadosC.predict(sm.add_constant(xAjustadoP))\n",
    "YP=prueba.calidad\n",
    "rssP=sum((YP-resultadosP)**2)\n",
    "tssP=sum((YP-np.mean(YP))**2)\n",
    "rseP=sqrt(rssP/(nC-mC-1))\n",
    "r2P=1-rssP/tssP\n",
    "print(f\"RSS de entrenamiento: {round(resultadosC.scale, 4)}\\tRSS de prueba: {round(rssP, 4)}\")\n",
    "print(f\"R^2 de entrenamiento: {round(resultadosC.rsquared, 4)}\\tR^2 de prueba: {round(r2P, 4)}\")"
   ]
  },
  {
   "cell_type": "markdown",
   "metadata": {},
   "source": [
    "El `RSS` aumento significante entre la prueba y el entrenamiento, no obstante el $R^2$ se mantuvo similar por lo que se puede decir que el ajuste es muy cercano a lo real.\n",
    "\n",
    "5. Realizar un proceso de selección hacia atrás a partir de las variables seleccionadas por el método de selección hacia adelante e imprimir en consola los índices o nombres de las variables seleccionadas. Para realizar este proceso, te recomiendo usar la misma función del **paso 3**, pero definiendo ahora `forward=False`. También te recomiendo especificar una menor cantidad de variables posibles, por ejemplo: `k_features=(2,5)`."
   ]
  },
  {
   "cell_type": "code",
   "execution_count": 5,
   "metadata": {},
   "outputs": [
    {
     "name": "stdout",
     "output_type": "stream",
     "text": [
      "Características seleccionadas:\n",
      "\t ('acidezVolatil', 'cloruros', 'dioxidoAzufreTotal', 'sulfatos', 'alcohol')\n"
     ]
    }
   ],
   "source": [
    "sfsInv=mlx.SequentialFeatureSelector(LinearRegression(), k_features=(2, 5), forward=False, scoring='r2', cv=10)\n",
    "sfsInv.fit(XC,YC)\n",
    "variablesInv=sfsInv.k_feature_names_\n",
    "print(\"Características seleccionadas:\\n\\t\", variablesInv)"
   ]
  },
  {
   "cell_type": "markdown",
   "metadata": {},
   "source": [
    "Se repitió casi lo mismo que en el **paso 3** no obstante ahora partimos de todas las variables y vamos descartando las que no tengan tanto impacto en el modelo (esto lo hace la misma función). Si comparamos esto con el **paso 3** podremos observar que se quitaron variables.\n",
    "\n",
    "6. Repetir el **paso 4**, pero para un modelo que contenga solamente las variables seleccionadas en el **paso 5**. Imprime en pantalla un breve texto que describa tu opinión sobre la diferencia en $R^2$ medida entre los modelos de los **pasos 4** y **6**, ¿cuál modelo consideras que es mejor? ¿Por qué?."
   ]
  },
  {
   "cell_type": "code",
   "execution_count": 6,
   "metadata": {},
   "outputs": [
    {
     "name": "stdout",
     "output_type": "stream",
     "text": [
      "RSS de entrenamiento: 0.4203\tRSS de prueba: 138.0307\n",
      "R^2 de entrenamiento: 0.3569\tR^2 de prueba: 0.3407\n"
     ]
    }
   ],
   "source": [
    "xAjustadoCInv=XC\n",
    "xAjustadoPInv=prueba.drop('calidad', axis=1)\n",
    "for i in range(len(variablesInv)):\n",
    "    xAjustadoCInv=xAjustadoCInv.drop(variablesInv[i], axis=1)\n",
    "borrarInv=xAjustadoCInv.columns\n",
    "xAjustadoCInv=XC\n",
    "for i in range(len(borrarInv)):\n",
    "    xAjustadoCInv=xAjustadoCInv.drop(borrarInv[i], axis=1)\n",
    "    xAjustadoPInv=xAjustadoPInv.drop(borrarInv[i], axis=1)\n",
    "modeloCInv=sm.OLS(YC, sm.add_constant(xAjustadoCInv))\n",
    "resultadosCInv=modeloCInv.fit()\n",
    "resultadosPInv=resultadosCInv.predict(sm.add_constant(xAjustadoPInv))\n",
    "YPInv=prueba.calidad\n",
    "rssPInv=sum((YPInv-resultadosP)**2)\n",
    "tssPInv=sum((YPInv-np.mean(YPInv))**2)\n",
    "rsePInv=sqrt(rssPInv/(nP-mP-1))\n",
    "r2PInv=1-rssPInv/tssPInv\n",
    "print(f\"RSS de entrenamiento: {round(resultadosCInv.scale, 4)}\\tRSS de prueba: {round(rssPInv, 4)}\")\n",
    "print(f\"R^2 de entrenamiento: {round(resultadosCInv.rsquared, 4)}\\tR^2 de prueba: {round(r2PInv, 4)}\")"
   ]
  },
  {
   "cell_type": "markdown",
   "metadata": {},
   "source": [
    "La diferencia en $R^2$ medida entre los modelos de los **pasos 4** y **6** es mínima, en este caso el $R^2$ es prácticamente el mismo. Esto puede ser debido a que el modelo que contiene solamente las variables seleccionadas en el **paso 5** es similar al que se generó en el **paso 3**, pero con menos variables, lo cual nos muestra que las variables que no se tomaron en cuenta no tienen un gran impacto con el modelo, por lo que se podría escoger el modelo con menos variables.\n",
    "\n",
    "**Firma de Honor:** Doy mi palabra que he realizado esta actividad con integridad académica"
   ]
  }
 ],
 "metadata": {
  "kernelspec": {
   "display_name": "anaconda-toolbox",
   "language": "python",
   "name": "python3"
  },
  "language_info": {
   "codemirror_mode": {
    "name": "ipython",
    "version": 3
   },
   "file_extension": ".py",
   "mimetype": "text/x-python",
   "name": "python",
   "nbconvert_exporter": "python",
   "pygments_lexer": "ipython3",
   "version": "3.12.8"
  }
 },
 "nbformat": 4,
 "nbformat_minor": 2
}
