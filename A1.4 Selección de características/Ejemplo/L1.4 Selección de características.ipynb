{
 "cells": [
  {
   "cell_type": "markdown",
   "id": "3e449d89",
   "metadata": {
    "id": "3e449d89"
   },
   "source": [
    "# L1.4 Selección de características\n",
    "\n",
    "En esta lectura realizaremos métodos de selección de características: selección hacia adelante, eliminación hacia atrás, y Lasso.\n",
    "\n",
    "Por favor no modifiques las celdas con las instrucciones, y solamente escribe código en las celdas donde así se te indica. **Si en algún momento seleccionas por error una celda de instrucciones y su apariencia cambia, simplemente presiona \"Ctrl + Enter\".**\n",
    "\n",
    "Dentro de las celdas de código, las líneas que inician con un \"\\#\" son comentarios y no se ejecutarán, simplemente sirven como instrucciones o descripciones útiles para ustedes."
   ]
  },
  {
   "cell_type": "markdown",
   "id": "8e815270",
   "metadata": {
    "id": "8e815270"
   },
   "source": [
    "Una vez más trabajaremos con los datos del Wine Quality Data Set, generados por Paulo Cortez y un grupo de investigación de la University of Minho, en Portugal, disponibles en [UCI Machine Learning Repository](https://archive.ics.uci.edu/dataset/186/wine+quality). Como ya lo sabes, los investigadores utilizaron estos datos para tratar de modelar las preferencias de consumo de vino, generando un índice de calidad. Nosotros ya usamos la información disponible en el módulo anterior para predecir dicho índice. Ahora, trataremos de mejorar la precisión del modelo a través de metodologías de selección de características. Puedes encontrar la base de datos junto con el material del curso; el archivo lleva por nombre \"L1.4 Vino Tinto.csv\".\n",
    "\n",
    "En la primera celda cargaremos la base de datos en una variable de nombre `df` usando la función `read_csv`de la librería de pandas, revisaremos el tamaño de la base de datos con la función `shape` y revisaremos los nombres de las variables con el operador `columns`. No olvides asegurarte de que el archivo a leer esté en el mismo directorio donde se encuentra esta libreta.<br><br>\n",
    "\n",
    "<details>\n",
    "    <summary>Si tienes problemas, da un click aquí para mostrar la solución</summary>\n",
    "    import pandas as pd<br>\n",
    "    df = pd.read_csv(\"Vino Tinto.csv\")<br>\n",
    "    print(df.shape)<br>\n",
    "    print(df.columns)\n",
    "</details>"
   ]
  },
  {
   "cell_type": "code",
   "execution_count": 2,
   "id": "f2aa82ca",
   "metadata": {
    "id": "f2aa82ca"
   },
   "outputs": [
    {
     "name": "stdout",
     "output_type": "stream",
     "text": [
      "(1599, 12)\n",
      "Index(['acidezFija', 'acidezVolatil', 'acidoCitrico', 'azucarResidual',\n",
      "       'cloruros', 'dioxidoAzufreLibre', 'dioxidoAzufreTotal', 'densidad',\n",
      "       'pH', 'sulfatos', 'alcohol', 'calidad'],\n",
      "      dtype='object')\n"
     ]
    }
   ],
   "source": [
    "# Importa la librería pandas\n",
    "import pandas as pd\n",
    "# Lee el archivo\n",
    "df = pd.read_csv(\"L1.4 Vino Tinto.csv\")\n",
    "# Imprime en consola las dimensiones de los datos\n",
    "print(df.shape)\n",
    "# Imprime en consola los nombres de las variables\n",
    "print(df.columns)"
   ]
  },
  {
   "cell_type": "markdown",
   "id": "68b9dfe5",
   "metadata": {
    "id": "68b9dfe5"
   },
   "source": [
    "Realizaremos algunos pasos que ya se realizaron en la lectura del módulo anterior, desde la separación en subconjuntos de entenamiento y prueba, hasta la creación de un modelo de regresión múltiple que incluya todas las variables del sistema. Si tienes alguna duda sobre cómo realizar estos pasos, te invito a que revises con detalle la lectura interactiva anterior.<br><br>\n",
    "\n",
    "<details>\n",
    "    <summary>Si tienes problemas, da un click aquí para mostrar la solución</summary>\n",
    "    from sklearn.model_selection import train_test_split<br>\n",
    "    train, test = train_test_split(df, train_size = 0.8)<br>\n",
    "    import statsmodels.api as sm<br>\n",
    "    X = train.drop('calidad', axis = 1)<br>\n",
    "    Y = train.calidad<br>\n",
    "    model = sm.OLS(Y,sm.add_constant(X))<br>\n",
    "    results = model.fit()<br>\n",
    "    print(results.summary())\n",
    "</details>\n"
   ]
  },
  {
   "cell_type": "code",
   "execution_count": 16,
   "id": "1e8e90a2",
   "metadata": {
    "id": "1e8e90a2"
   },
   "outputs": [
    {
     "name": "stdout",
     "output_type": "stream",
     "text": [
      "                            OLS Regression Results                            \n",
      "==============================================================================\n",
      "Dep. Variable:                calidad   R-squared:                       0.378\n",
      "Model:                            OLS   Adj. R-squared:                  0.372\n",
      "Method:                 Least Squares   F-statistic:                     69.96\n",
      "Date:                Mon, 21 Aug 2023   Prob (F-statistic):          2.68e-122\n",
      "Time:                        08:10:03   Log-Likelihood:                -1246.9\n",
      "No. Observations:                1279   AIC:                             2518.\n",
      "Df Residuals:                    1267   BIC:                             2580.\n",
      "Df Model:                          11                                         \n",
      "Covariance Type:            nonrobust                                         \n",
      "======================================================================================\n",
      "                         coef    std err          t      P>|t|      [0.025      0.975]\n",
      "--------------------------------------------------------------------------------------\n",
      "const                 29.4612     23.267      1.266      0.206     -16.185      75.108\n",
      "acidezFija             0.0289      0.029      1.014      0.311      -0.027       0.085\n",
      "acidezVolatil         -1.1584      0.135     -8.555      0.000      -1.424      -0.893\n",
      "acidoCitrico          -0.1916      0.165     -1.160      0.246      -0.516       0.132\n",
      "azucarResidual         0.0186      0.016      1.141      0.254      -0.013       0.050\n",
      "cloruros              -1.6488      0.471     -3.502      0.000      -2.573      -0.725\n",
      "dioxidoAzufreLibre     0.0029      0.002      1.234      0.217      -0.002       0.008\n",
      "dioxidoAzufreTotal    -0.0027      0.001     -3.380      0.001      -0.004      -0.001\n",
      "densidad             -25.8274     23.741     -1.088      0.277     -72.403      20.749\n",
      "pH                    -0.3158      0.210     -1.505      0.133      -0.727       0.096\n",
      "sulfatos               0.9190      0.126      7.278      0.000       0.671       1.167\n",
      "alcohol                0.2832      0.029      9.774      0.000       0.226       0.340\n",
      "==============================================================================\n",
      "Omnibus:                       29.462   Durbin-Watson:                   1.942\n",
      "Prob(Omnibus):                  0.000   Jarque-Bera (JB):               45.218\n",
      "Skew:                          -0.214   Prob(JB):                     1.52e-10\n",
      "Kurtosis:                       3.816   Cond. No.                     1.13e+05\n",
      "==============================================================================\n",
      "\n",
      "Notes:\n",
      "[1] Standard Errors assume that the covariance matrix of the errors is correctly specified.\n",
      "[2] The condition number is large, 1.13e+05. This might indicate that there are\n",
      "strong multicollinearity or other numerical problems.\n"
     ]
    }
   ],
   "source": [
    "# Importa la función train_test_split de la librería skleanr.model_selection\n",
    "from sklearn.model_selection import train_test_split\n",
    "# Genera los datos de entrenamiento (80%) y validación (20%)\n",
    "train, test = train_test_split(df, train_size = 0.8)\n",
    "# Importar librería statsmodels.api\n",
    "import statsmodels.api as sm\n",
    "# Generar elemento X\n",
    "X = train.drop('calidad', axis = 1)\n",
    "# Generar elemento Y\n",
    "Y = train.calidad\n",
    "# Definir el tipo de modelo\n",
    "model = sm.OLS(Y,sm.add_constant(X))\n",
    "# Ajustar el modelo para obtener resultados\n",
    "results = model.fit()\n",
    "# Imprimir un resumen de los resultados\n",
    "print(results.summary())"
   ]
  },
  {
   "cell_type": "markdown",
   "id": "b8eb814a",
   "metadata": {
    "id": "b8eb814a"
   },
   "source": [
    "Hasta este punto debimos haber obtenido resultados muy similares a los obtenidos en la lectura interactiva anterior (las diferencias son causadas por la separación aleatoria de datos en los subconjuntos de entrenamiento y prueba). El modelo tiene una R cuadrada ajustada baja (probablemente ligeramente menor a 0.4), y múltiples variables tienen un *p-value* mayor a 0.05.\n",
    "\n",
    "Es momento de iniciar con la selección de características. En este caso, trabajaremos con la selección hacia adelante rápida. Como probablemente recuerdes, el primer paso en esta metodología consiste en genear un *ranking* de las variables. En esta ocasión utilizaremos la correlación de Pearson para generar dicho ranking, métrica que puede calcularse usando la función `pearsonr` de la librería scipy.stats. Dicha función entrega tanto el valor de correlación, como su *p-value* asociado. Ya que de momento solo nos interesa la correlación, únicamente almacenaremos el primer valor (índice 0) entregado por la función. Adicionalmente, ya que solo nos interesa la magnitud de la correlación, y no su dirección, trabajaremos con el valor absoluto de la métrica, apoyándonos con la función `abs`.\n",
    "\n",
    "En la siguiente celda, primero importaremos la función necesaria, después generarmos una variable de nombre `n` donde se almacene la cantidad de variables por analizar, y después inicializaremos un vector de zeros, usando la función `zeros` de numpy, donde eventualmente se guardarán los datos de correlación.\n",
    "\n",
    "Para poder realizar la prueba de correlación entre cada columna de X e Y, utilizaremos un ciclo for (la indentación de la línea posterior al for es de suma importancia). Allí se realizará la prueba entre la primera columna de X e Y y se almacenará el valor en la primera posición del vector previamente inicializado. Después se realizará el mismo proceso entre la segunda columna de X e Y, después entre la tercera columna de X e Y, y así sucesivamente hasta analizar todas las variables. Finalmente, imprimiremos en consola los resultados.\n",
    "<br><br>\n",
    "\n",
    "<details>\n",
    "    <summary>Si tienes problemas, da un click aquí para mostrar la solución</summary>\n",
    "    from scipy.stats import pearsonr<br>\n",
    "    import numpy as np<br>\n",
    "    n = X.shape[1]<br>\n",
    "    cor = np.zeros(n)<br>\n",
    "    for i in range(n):<br>\n",
    "        &nbsp;&nbsp;&nbsp;&nbsp;&nbsp;&nbsp;cor[i] = abs(pearsonr(X.iloc[:, i], Y)[0])<br>\n",
    "    print(cor)\n",
    "</details>"
   ]
  },
  {
   "cell_type": "code",
   "execution_count": 17,
   "id": "92fa5e9a",
   "metadata": {
    "id": "92fa5e9a"
   },
   "outputs": [
    {
     "name": "stdout",
     "output_type": "stream",
     "text": [
      "[0.11901146 0.40487607 0.23440581 0.0250073  0.12402239 0.05488181\n",
      " 0.17591782 0.1785821  0.0512614  0.26891235 0.4937687 ]\n"
     ]
    }
   ],
   "source": [
    "# Importa la función pearsonr\n",
    "from scipy.stats import pearsonr\n",
    "# Importa numpy\n",
    "import numpy as np\n",
    "#Determina la cantidad de variables\n",
    "n = X.shape[1]\n",
    "# Inicializa el vector de correlaciones\n",
    "cor = np.zeros(n)\n",
    "# Realiza la comparación entre Y y cada columna de X\n",
    "for i in range(n):\n",
    "      cor[i] = abs(pearsonr(X.iloc[:, i], Y)[0])\n",
    "# Imprime el resultado\n",
    "print(cor)"
   ]
  },
  {
   "cell_type": "markdown",
   "id": "c0963052",
   "metadata": {
    "id": "c0963052"
   },
   "source": [
    "Una vez que conocemos la correlación que cada variable de entrada tiene con la variable de salida, podemos clasificarlas de mayor a menor, para entonces empezar a generar modelos. En la siguiente celda, almacenaremos dicho orden en una variable de nombre `ind`. Para lograrlo, nos ayudaremos de la función `argsort` de numpy, y ya que nos interesa que el orden sea de mayor a menor, pero la función genera el orden contrario, le entregaremos a la función como parámetro los valores negativos de correlación.\n",
    "\n",
    "Solamente por curiosidad, también aprovecharemos para revisar el nombre de dichas variables, y así saber cómo se empezará a construir nuestro modelo. Para lograrlo, simplemente imprimiremos en pantalla los nombres de las columnas de X, pero en el orden indicado por el arreglo `ind`, esto con ayuda de la función `columns` de pandas.<br><br>\n",
    "\n",
    "<details>\n",
    "    <summary>Si tienes problemas, da un click aquí para mostrar la solución</summary>\n",
    "    ind = np.argsort(-cor)<br>\n",
    "    print(df.columns[ind])\n",
    "</details>"
   ]
  },
  {
   "cell_type": "code",
   "execution_count": 18,
   "id": "b0241d34",
   "metadata": {
    "id": "b0241d34"
   },
   "outputs": [
    {
     "name": "stdout",
     "output_type": "stream",
     "text": [
      "Index(['alcohol', 'acidezVolatil', 'sulfatos', 'acidoCitrico', 'densidad',\n",
      "       'dioxidoAzufreTotal', 'cloruros', 'acidezFija', 'dioxidoAzufreLibre',\n",
      "       'pH', 'azucarResidual'],\n",
      "      dtype='object')\n"
     ]
    }
   ],
   "source": [
    "# Almacena el orden de las variables\n",
    "ind = np.argsort(-cor)\n",
    "# Imprime los nombres de las variables en el orden del ranking\n",
    "print(df.columns[ind])"
   ]
  },
  {
   "cell_type": "markdown",
   "id": "fcb7035a",
   "metadata": {
    "id": "fcb7035a"
   },
   "source": [
    "Probablemente tus resultados indiquen la variable de mayor interés es el nivel de alcohol (podría haber variaciones dependiendo de la partición original de datos), seguido de la acidez volátil, hasta eventualmente llegar al azucar residual. Ahora sí, podremos empezar a generar modelos y revisar sus desempeños, medidos en término de la R cuadrada ajustada. Primero generaremos un modelo de regresión lineal simple que solamente incluya la mejor variable, después un modelo de regresión lineal múltiple que incluya las mejores dos variables, después uno con las tres mejores variables, y así sucesivamente hasta terminar con un modelo que incluya todas las variables del sistema.\n",
    "\n",
    "Para lograrlo, primero inicializaremos un arreglo de nombre `Radj`, donde se irá almacenando la métrica de desempeño de cada modelo. Después declararemos un bucle `for` que recorrerá todas las variables de X. Dentro de dicho bucle, primero definiremos una X temporal con el nombre `Xtemp`, que incluirá solamente las variables de interés de la iteración correspondiente (desde 0 hasta *i*). Después generaremos y ajustaremos un modelo de regresión lineal múltiple en una sola línea de código (basándonos en las instrucciones que hemos usado previamente). La última tarea dentro del bucle consistirá en calcular y almacenar la R cuadrada ajustada; dicha tarea la resolveremos con la función `rsquared_adj` de la librería statsmodels, la misma de la que deriva la función `OLS` que usaremos para ajustar el modelo. Por lo mismo, primero tendremos que importar dicha librería. Finalmente, y para revisar los resultados, imprimiremos en pantalla el contenido del arreglo `Radj`.<br><br>\n",
    "\n",
    "<details>\n",
    "    <summary>Si tienes problemas, da un click aquí para mostrar la solución</summary>\n",
    "    import statsmodels.api as sm<br>\n",
    "    Radj=np.zeros(len(ind))<br>\n",
    "    for i in range(len(ind)):<br>\n",
    "        &nbsp;&nbsp;&nbsp;&nbsp;&nbsp;&nbsp;Xtemp=X.iloc[:,ind[0:i]]<br>\n",
    "        &nbsp;&nbsp;&nbsp;&nbsp;&nbsp;&nbsp;modelTemp=sm.OLS(Y,sm.add_constant(Xtemp)).fit()<br>\n",
    "        &nbsp;&nbsp;&nbsp;&nbsp;&nbsp;&nbsp;Radj[i]=modelTemp.rsquared_adj<br>\n",
    "    print(Radj)\n",
    "</details>"
   ]
  },
  {
   "cell_type": "code",
   "execution_count": 19,
   "id": "061d2f41",
   "metadata": {
    "id": "061d2f41"
   },
   "outputs": [
    {
     "name": "stdout",
     "output_type": "stream",
     "text": [
      "[4.44089210e-16 2.43215362e-01 3.38290905e-01 3.57966677e-01\n",
      " 3.57940253e-01 3.57656743e-01 3.62791709e-01 3.68075531e-01\n",
      " 3.70642535e-01 3.70853320e-01 3.72309329e-01]\n"
     ]
    }
   ],
   "source": [
    "# Importar la librería\n",
    "import statsmodels.api as sm\n",
    "# Inicializar el arreglo Radj\n",
    "Radj=np.zeros(len(ind))\n",
    "# Bucle for en el que se creará Xtemp, se entrenará el modelo, y se evaluará y almacenará Radj\n",
    "for i in range(len(ind)):\n",
    "      Xtemp=X.iloc[:,ind[0:i]]\n",
    "      modelTemp=sm.OLS(Y,sm.add_constant(Xtemp)).fit()\n",
    "      Radj[i]=modelTemp.rsquared_adj\n",
    "# Imprimir resultados\n",
    "print(Radj)"
   ]
  },
  {
   "cell_type": "markdown",
   "id": "e16e2f39",
   "metadata": {
    "id": "e16e2f39"
   },
   "source": [
    "Una vez que conocemos dichos resultados, podemos tomar la decisión de qué variables seleccionar para nuestro modelo. Sin embargo, en ocasiones resulta más sencillo tomar esa decisión después de visualizar los resultados en una gráfica.\n",
    "\n",
    "En la siguiente celda, genera una gráfica para la variable `Radj`, definiendo como segundo parámetro el término `o-`, que provocará que cada valor se grafique como un pequeño punto, y que cada punto esté unido por una línea. La gráfica se generará con la función `plot` de la librería matplotlib.pyplot, así que no olvides primero importar dicha librería.<br><br>\n",
    "\n",
    "<details>\n",
    "    <summary>Si tienes problemas, da un click aquí para mostrar la solución</summary>\n",
    "    import matplotlib.pyplot as plt<br>\n",
    "    plt.plot(Radj,'o-')\n",
    "</details>"
   ]
  },
  {
   "cell_type": "code",
   "execution_count": 20,
   "id": "7c5c27f3",
   "metadata": {
    "id": "7c5c27f3"
   },
   "outputs": [
    {
     "data": {
      "text/plain": [
       "[<matplotlib.lines.Line2D at 0x20e74137ad0>]"
      ]
     },
     "execution_count": 20,
     "metadata": {},
     "output_type": "execute_result"
    },
    {
     "data": {
      "image/png": "[encoded data removed]",
      "text/plain": [
       "<Figure size 640x480 with 1 Axes>"
      ]
     },
     "metadata": {},
     "output_type": "display_data"
    }
   ],
   "source": [
    "# Importa la librería\n",
    "import matplotlib.pyplot as plt\n",
    "# Genera la gráfica\n",
    "plt.plot(Radj,'o-')"
   ]
  },
  {
   "cell_type": "markdown",
   "id": "a2245cf9",
   "metadata": {
    "id": "a2245cf9"
   },
   "source": [
    "Sin duda hay muchas cosas que podríamos agregar y modificar a la gráfica para que se vea mejor y su significado sea más claro. Pero, ya que de momento solo la estamos creando para nuestros propios ojos, no necesitamos más que la visualización más básica.\n",
    "\n",
    "A partir de dicha gráfica, en mi caso, podría considerar que las primeras 6 variables serían las adecuadas para seleccionar en mi modelo. Dependiendo de la separación inicial de datos, en tu caso, la imagen podría indicar algo distinto. Por simple conveniencia y para estandarizar nuestros resultados, asumamos que tomamos la decisión de seleccionar solamente las 6 variables mejor clasificadas.\n",
    "\n",
    "A partir de este punto podríamos decir que ya realizamos una selección de características y terminar el ejercicio. Sin embargo, revisemo ahora la metodología de eliminación hacia atrás a partir de estos resultados. Es decir, veamos si podemos deshacernos de uno o varias de estas 6 variables, sin perjudicar el desempeño del modelo.\n",
    "\n",
    "Generemos entonces 6 modelos de regresión múltiple, cada uno con 5 variables. Primero definiremos un *data frame* de nombre `Xfs` (X después de realizar *forward selection*) que contenga solamente las variables de interés, e inicializaremos una vez más un arreglo de nombre `RadjBE` (Radj después de realizar *backwards elimination*) donde se almacenará el desempeño de cada modelo.\n",
    "\n",
    "Posteriormente, crearemos un bucle *for* con una estructura similar al utilizado en la etapa de selección hacia adelante. Primero se definirá `Xtemp` como la X temporal que constará de una columna menos que XFS, después se creará y entrenará el modelo, y por último se calculará y almacenará la métrica de desempeño. Una vez terminado este proceso, imprimiremos en consola los resultados de cada uno de estos modelos, así como el desempeño del modelo original (el que incluía las 6 variables, recordando que en Python el primer elemento tiene índice 0).\n",
    "\n",
    "Trataré de dejar un poco más claro el proceso con el que crearemos `Xtemp`. Usaremos la función `drop` de pandas para eliminar la *i* columna, definiendo como parámetros `labels` y `axis`. Para el primero, especificaremos el nombre de la columna *i* usando la función `columns`, y para el segundo, simplemente lo definiremos como `1`.<br><br>\n",
    "\n",
    "<details>\n",
    "    <summary>Si tienes problemas, da un click aquí para mostrar la solución</summary>\n",
    "    Xfs=X.iloc[:,ind[:6]]<br>\n",
    "    RadjBE=np.zeros(6)<br>\n",
    "    for i in range(len(RadjBE)):<br>\n",
    "        &nbsp;&nbsp;&nbsp;&nbsp;&nbsp;&nbsp;Xtemp=Xfs.drop(labels = Xfs.columns[i], axis = 1)<br>\n",
    "        &nbsp;&nbsp;&nbsp;&nbsp;&nbsp;&nbsp;modelTemp=sm.OLS(Y,sm.add_constant(Xtemp)).fit()<br>\n",
    "        &nbsp;&nbsp;&nbsp;&nbsp;&nbsp;&nbsp;RadjBE[i]=modelTemp.rsquared_adj<br>\n",
    "    print(RadjBE)<br>\n",
    "    print(Radj[5])\n",
    "</details>"
   ]
  },
  {
   "cell_type": "code",
   "execution_count": 21,
   "id": "2b0a9a11",
   "metadata": {
    "id": "2b0a9a11"
   },
   "outputs": [
    {
     "name": "stdout",
     "output_type": "stream",
     "text": [
      "[0.2566666  0.31346739 0.34229937 0.36303159 0.36324735 0.35765674]\n",
      "0.35765674330809183\n"
     ]
    }
   ],
   "source": [
    "# Genera el data frame Xfs con solo la información de las 6 mejores variables\n",
    "Xfs=X.iloc[:,ind[:6]]\n",
    "# Inicializa RadjBE\n",
    "RadjBE=np.zeros(6)\n",
    "# Bucle for en el que se creará Xtemp, se entrenará el modelo, y se evaluará y almacenará RadjBE\n",
    "for i in range(len(RadjBE)):\n",
    "      Xtemp=Xfs.drop(labels = Xfs.columns[i], axis = 1)\n",
    "      modelTemp=sm.OLS(Y,sm.add_constant(Xtemp)).fit()\n",
    "      RadjBE[i]=modelTemp.rsquared_adj\n",
    "# Imprime los resultados\n",
    "print(RadjBE)\n",
    "# Imprime el resultado del modelo con las 6 mejores variables\n",
    "print(Radj[5])"
   ]
  },
  {
   "cell_type": "markdown",
   "id": "719bf4da",
   "metadata": {
    "id": "719bf4da"
   },
   "source": [
    "Al revisar los resultados, en mi caso, se aprecia que el modelo que no incluye la quinta variable tiene el mejor desempeño de entre los 6 modelos de cinco variables, y que, además, tiene un mejor desempeño que el modelo con 6 variables. Por lo tanto, podemos eliminar dicha variable de nuestro modelo. Incluso si en tus resultados hay diferencias, una vez más, en aras de estandarizar nuestro trabajo, tomemos la decisión de eliminar la quinta variable.\n",
    "\n",
    "Podríamos, y deberíamos, repetir este proceso, para así tratar de reducir el modelo tanto como sea posible. Sin embargo, de momento dejemos el ejercicio hasta ese punto. Ahora podríamos realizar el mismo proceso que generamos en la lectura interactiva previa y encontrar el RSE y R cuadrada de este modelo en los datos de prueba.\n",
    "\n",
    "Para finalizar, simplemente quiero mostrarles una implementación exageradamente sencilla del método Lasso. Usando la función `Lasso` de la librería sklearn.linear_model, no necesitamos más que definir el valor de lambda (aquí llamado alpha), y entregarle a la función los datos. En la siguiente celda importa la función, crea el modelo con un lambda de 0.1, entrénalo con la función `fit`, e imprime el valor de los coeficientes estimados con la función `coef_`.<br><br>\n",
    "\n",
    "<details>\n",
    "    <summary>Si tienes problemas, da un click aquí para mostrar la solución</summary>\n",
    "    from sklearn.linear_model import Lasso<br>\n",
    "    modelL=Lasso(alpha=0.1)<br>\n",
    "    modelL.fit(X,Y)<br>\n",
    "    print(modelL.coef_)\n",
    "</details>"
   ]
  },
  {
   "cell_type": "code",
   "execution_count": 23,
   "id": "e8619043",
   "metadata": {
    "id": "e8619043"
   },
   "outputs": [
    {
     "name": "stdout",
     "output_type": "stream",
     "text": [
      "[ 0.02751269 -0.          0.          0.         -0.          0.00389581\n",
      " -0.00316165 -0.         -0.          0.          0.27463404]\n"
     ]
    }
   ],
   "source": [
    "# Importa la librería\n",
    "from sklearn.linear_model import Lasso\n",
    "# Crea el modelo\n",
    "modelL=Lasso(alpha=0.1)\n",
    "# Entrena el modelo\n",
    "modelL.fit(X,Y)\n",
    "# Imprime el valor de los coeficientes\n",
    "print(modelL.coef_)"
   ]
  },
  {
   "cell_type": "markdown",
   "id": "611571f1",
   "metadata": {
    "id": "611571f1"
   },
   "source": [
    "Como podrás observar, muchos de los coeficientes tienen valor 0, indicando que el método de Lasso realizó una selección de características inherente. Con estas 4 líneas de código podemos llegar a reemplazar todo el trabajo que habíamos generado previamente. Pero, si nos interesa el proceso de selección hacia adelante y eliminación hacia atrás, también podemos apoyarnos en funciones para realizar el proceso de forma extremadamente sencilla y veloz. Por ejemplo, la función `SequentialFeatureSelector` de la librería sklearn.feature_selection puede generar tanto la selección hacia adelante como la eliminación hacia atrás con tan pocas líneas de código como el proceso de Lasso que acabamos de ejecutar.\n",
    "\n",
    "Con esto finalizamos la lectura interactiva, hasta la próxima."
   ]
  }
 ],
 "metadata": {
  "colab": {
   "provenance": []
  },
  "kernelspec": {
   "display_name": "Python 3 (ipykernel)",
   "language": "python",
   "name": "python3"
  },
  "language_info": {
   "codemirror_mode": {
    "name": "ipython",
    "version": 3
   },
   "file_extension": ".py",
   "mimetype": "text/x-python",
   "name": "python",
   "nbconvert_exporter": "python",
   "pygments_lexer": "ipython3",
   "version": "3.11.4"
  }
 },
 "nbformat": 4,
 "nbformat_minor": 5
}
